{
  "nbformat": 4,
  "nbformat_minor": 0,
  "metadata": {
    "colab": {
      "provenance": [],
      "authorship_tag": "ABX9TyMnNm5EYMCaActnjvQW6Eml",
      "include_colab_link": true
    },
    "kernelspec": {
      "name": "python3",
      "display_name": "Python 3"
    },
    "language_info": {
      "name": "python"
    }
  },
  "cells": [
    {
      "cell_type": "markdown",
      "metadata": {
        "id": "view-in-github",
        "colab_type": "text"
      },
      "source": [
        "<a href=\"https://colab.research.google.com/github/curoled345/Markdown/blob/main/0627_tuple.ipynb\" target=\"_parent\"><img src=\"https://colab.research.google.com/assets/colab-badge.svg\" alt=\"Open In Colab\"/></a>"
      ]
    },
    {
      "cell_type": "markdown",
      "source": [
        "GPS 좌표"
      ],
      "metadata": {
        "id": "Oj9C2uAoE1kH"
      }
    },
    {
      "cell_type": "code",
      "source": [
        "location = (37.30, 126.83)  # 경도, 위도 두 값을 묶음\n",
        "lon, lat = location  # 언패킹해서 사용"
      ],
      "metadata": {
        "id": "LMBdYQs5E1s2"
      },
      "execution_count": 1,
      "outputs": []
    },
    {
      "cell_type": "markdown",
      "source": [
        "센서 측정값"
      ],
      "metadata": {
        "id": "pfm0D6qUE1xq"
      }
    },
    {
      "cell_type": "code",
      "source": [
        "lidar_reading = (8.5, 45, 'lidar')\n",
        "distance, angle, sensor_type = lidar_reading"
      ],
      "metadata": {
        "id": "ed8sDWikE142"
      },
      "execution_count": 2,
      "outputs": []
    },
    {
      "cell_type": "markdown",
      "source": [
        "교통신호"
      ],
      "metadata": {
        "id": "RbxbOfRYE2CV"
      }
    },
    {
      "cell_type": "code",
      "source": [
        "traffic_light = ('red', 15)\n",
        "color, time_left = traffic_light"
      ],
      "metadata": {
        "id": "5y7CDm6zE2LW"
      },
      "execution_count": 3,
      "outputs": []
    },
    {
      "cell_type": "markdown",
      "source": [
        "1 : Tuple Unpacking 기본"
      ],
      "metadata": {
        "id": "rIG_-2lVE2Ov"
      }
    },
    {
      "cell_type": "code",
      "source": [
        "vehicle_position = (37.30, 126.83)\n",
        "longitude, latitude = vehicle_position  # ← 이게 tuple unpacking!"
      ],
      "metadata": {
        "id": "3HSP4QVPE2T1"
      },
      "execution_count": 4,
      "outputs": []
    },
    {
      "cell_type": "markdown",
      "source": [
        "\n",
        "Tuple Unpacking + 리스트\n",
        "\n"
      ],
      "metadata": {
        "id": "bti7O01ZE2XS"
      }
    },
    {
      "cell_type": "code",
      "source": [
        "sensor_readings = [(8.5, 45, 'lidar'), (12.3, 0, 'camera')]\n",
        "for sensor_data in sensor_readings:\n",
        "    dist, ang, sensor_type = sensor_data  # 반복문에서 언패킹"
      ],
      "metadata": {
        "id": "AmnTVaN9Os_o"
      },
      "execution_count": 5,
      "outputs": []
    },
    {
      "cell_type": "markdown",
      "source": [
        "Tuple Unpacking + 딕셔너리\n"
      ],
      "metadata": {
        "id": "pC32QgtROics"
      }
    },
    {
      "cell_type": "code",
      "source": [
        "vehicle_locations = {'car_001': (127.1, 37.5, 60)}\n",
        "for vehicle_id, location_data in vehicle_locations.items():\n",
        "    lon, lat, spd = location_data  # 딕셔너리 값을 언패킹"
      ],
      "metadata": {
        "id": "SfhdxlwsO4DI"
      },
      "execution_count": 6,
      "outputs": []
    },
    {
      "cell_type": "markdown",
      "source": [
        "실전 응용 - 중첩 Unpacking"
      ],
      "metadata": {
        "id": "O_gzU3e9O6ty"
      }
    },
    {
      "cell_type": "code",
      "source": [
        "traffic_data = [('09:15', (127.1, 37.5), 45, 'sedan', 1)]\n",
        "for data in traffic_data:\n",
        "    time, position, speed, vehicle_type, lane = data\n",
        "    lon, lat = position  # 중첩된 튜플도 언패킹!"
      ],
      "metadata": {
        "id": "6RkwzOPOO6zg"
      },
      "execution_count": 7,
      "outputs": []
    },
    {
      "cell_type": "markdown",
      "source": [
        "1. 기본 좌표 언패킹"
      ],
      "metadata": {
        "id": "B-SSyziQO64Q"
      }
    },
    {
      "cell_type": "code",
      "source": [
        "vehicle_position = (127.5, 37.5)  # 경도, 위도\n",
        "\n",
        "longitude, latitude = vehicle_position\n",
        "print(f\"차량 위치: 경도 {longitude}, 위도 {latitude}\")"
      ],
      "metadata": {
        "colab": {
          "base_uri": "https://localhost:8080/"
        },
        "id": "HDvkD5mrO6-Z",
        "outputId": "349ac8d9-516a-4d74-f3a4-7187cdecd807"
      },
      "execution_count": 8,
      "outputs": [
        {
          "output_type": "stream",
          "name": "stdout",
          "text": [
            "차량 위치: 경도 127.5, 위도 37.5\n"
          ]
        }
      ]
    },
    {
      "cell_type": "markdown",
      "source": [
        "2. 센서 데이터 언패킹  "
      ],
      "metadata": {
        "id": "C2wNf-NsPRF4"
      }
    },
    {
      "cell_type": "code",
      "source": [
        "lidar_data = (41.2, 30)  # 거리(미터), 각도(도)\n",
        "\n",
        "distance, angle = lidar_data\n",
        "print(f\"라이다 감지: {distance}m, {angle}도\")"
      ],
      "metadata": {
        "colab": {
          "base_uri": "https://localhost:8080/"
        },
        "id": "RgfHkDEsPRMv",
        "outputId": "5a526225-5cab-43b8-c6ee-7c3ec13800a7"
      },
      "execution_count": 9,
      "outputs": [
        {
          "output_type": "stream",
          "name": "stdout",
          "text": [
            "라이다 감지: 41.2m, 30도\n"
          ]
        }
      ]
    },
    {
      "cell_type": "markdown",
      "source": [
        "3. 속도와 방향 언패킹"
      ],
      "metadata": {
        "id": "YuaNO3yWPRRY"
      }
    },
    {
      "cell_type": "code",
      "source": [
        "motion_data = (81, 270)  # 속도(km/h), 방향(도)\n",
        "\n",
        "speed, direction = motion_data\n",
        "print(f\"차량 운동: {speed}km/h, {direction}도 방향\")"
      ],
      "metadata": {
        "colab": {
          "base_uri": "https://localhost:8080/"
        },
        "id": "-ye381IFPRWJ",
        "outputId": "e9ca49ba-740a-4c0b-a405-373d5441a1cd"
      },
      "execution_count": 10,
      "outputs": [
        {
          "output_type": "stream",
          "name": "stdout",
          "text": [
            "차량 운동: 81km/h, 270도 방향\n"
          ]
        }
      ]
    },
    {
      "cell_type": "markdown",
      "source": [
        "4. 교차로 신호등 정보 언패킹"
      ],
      "metadata": {
        "id": "7CGv4TLDPRZp"
      }
    },
    {
      "cell_type": "code",
      "source": [
        "traffic_signal = ('빨강', 7)  # 색상, 남은시간(초)\n",
        "\n",
        "color, time_left = traffic_signal\n",
        "print(f\"신호등: {color}, {time_left}초 남음\")"
      ],
      "metadata": {
        "colab": {
          "base_uri": "https://localhost:8080/"
        },
        "id": "5McWtiitPRd4",
        "outputId": "694cac93-a262-4a04-8c6e-daaf22cc8d30"
      },
      "execution_count": 11,
      "outputs": [
        {
          "output_type": "stream",
          "name": "stdout",
          "text": [
            "신호등: 빨강, 7초 남음\n"
          ]
        }
      ]
    },
    {
      "cell_type": "markdown",
      "source": [
        "5. 주차 공간 정보 언패킹"
      ],
      "metadata": {
        "id": "sUDRCd9OPRhd"
      }
    },
    {
      "cell_type": "code",
      "source": [
        "parking_spot = (4.8, 2.3, True)  # 길이(m), 폭(m), 사용가능여부\n",
        "\n",
        "length, width, available = parking_spot\n",
        "print(f\"주차공간: {length}m × {width}m, 사용가능: {available}\")"
      ],
      "metadata": {
        "colab": {
          "base_uri": "https://localhost:8080/"
        },
        "id": "sSIxHPVxPRmQ",
        "outputId": "bfc441a8-0a15-40e3-c6ba-8462f7d1b304"
      },
      "execution_count": 12,
      "outputs": [
        {
          "output_type": "stream",
          "name": "stdout",
          "text": [
            "주차공간: 4.8m × 2.3m, 사용가능: True\n"
          ]
        }
      ]
    },
    {
      "cell_type": "markdown",
      "source": [
        "6. 배터리 상태 언패킹"
      ],
      "metadata": {
        "id": "GSdTWVAyPRqC"
      }
    },
    {
      "cell_type": "code",
      "source": [
        "battery_info = (73, 129, 'normal')  # 잔량(%), 주행가능거리(km), 상태\n",
        "\n",
        "charge_level, remaining_range, battery_status = battery_info\n",
        "print(f\"배터리: {charge_level}%, {remaining_range}km 주행가능, 상태: {battery_status}\")"
      ],
      "metadata": {
        "colab": {
          "base_uri": "https://localhost:8080/"
        },
        "id": "g_qHKQ5kPRuZ",
        "outputId": "69f72e8b-ec57-405f-c895-64d09bb3aae6"
      },
      "execution_count": 13,
      "outputs": [
        {
          "output_type": "stream",
          "name": "stdout",
          "text": [
            "배터리: 73%, 129km 주행가능, 상태: normal\n"
          ]
        }
      ]
    },
    {
      "cell_type": "markdown",
      "source": [
        "# 2. Tuple Unpacking + 리스트 조합"
      ],
      "metadata": {
        "id": "MfItBu09Py96"
      }
    },
    {
      "cell_type": "markdown",
      "source": [
        "여러 센서 데이터를 리스트로 관리"
      ],
      "metadata": {
        "id": "WP2gJNn9PRyc"
      }
    },
    {
      "cell_type": "code",
      "source": [
        "sensor_readings = [\n",
        "    (8.5, 45, 'lidar'),    # 거리, 각도, 센서타입\n",
        "    (12.3, 0, 'camera'),\n",
        "    (15.7, -30, 'radar'),\n",
        "    (2.1, 90, 'ultrasonic')\n",
        "]\n",
        "\n",
        "print(\"센서별 감지 정보:\")\n",
        "for sensor_data in sensor_readings:\n",
        "    dist, ang, sensor_type = sensor_data  # tuple unpacking\n",
        "    print(f\"- {sensor_type}: {dist}m, {ang}도\")"
      ],
      "metadata": {
        "colab": {
          "base_uri": "https://localhost:8080/"
        },
        "id": "aAbwHYHIE2bi",
        "outputId": "8b8e1b8b-4e1f-4677-dc4a-acff373d0a90"
      },
      "execution_count": 14,
      "outputs": [
        {
          "output_type": "stream",
          "name": "stdout",
          "text": [
            "센서별 감지 정보:\n",
            "- lidar: 8.5m, 45도\n",
            "- camera: 12.3m, 0도\n",
            "- radar: 15.7m, -30도\n",
            "- ultrasonic: 2.1m, 90도\n"
          ]
        }
      ]
    },
    {
      "cell_type": "markdown",
      "source": [
        "위험 센서 찾기 (5m 이내)"
      ],
      "metadata": {
        "id": "D1v7jolrP7Qn"
      }
    },
    {
      "cell_type": "code",
      "source": [
        "print(\"위험 감지 센서 :\")\n",
        "for sensor_data in sensor_readings:\n",
        "    dist, ang, sensor_type = sensor_data\n",
        "    if dist < 5.0:\n",
        "        print(f\" {sensor_type}: {dist}m (위험)\")"
      ],
      "metadata": {
        "colab": {
          "base_uri": "https://localhost:8080/"
        },
        "id": "0QK7rvMOE2fW",
        "outputId": "b723e0c5-dac9-48de-d53b-db0aacd21888"
      },
      "execution_count": 15,
      "outputs": [
        {
          "output_type": "stream",
          "name": "stdout",
          "text": [
            "위험 감지 센서 :\n",
            " ultrasonic: 2.1m (위험)\n"
          ]
        }
      ]
    },
    {
      "cell_type": "markdown",
      "source": [
        "경로 포인트들을 리스트로 관리"
      ],
      "metadata": {
        "id": "dFkUzMi8Nh59"
      }
    },
    {
      "cell_type": "code",
      "source": [
        "waypoints = [\n",
        "    (0, 0, '출발지'),\n",
        "    (5, 3, '경유지1'),\n",
        "    (10, 8, '경유지2'),\n",
        "    (15, 12, '목적지')\n",
        "]\n",
        "print(\"\\n경로 계획:\")\n",
        "for point in waypoints:\n",
        "    x, y, name = point\n",
        "    print(f\"{name}: ({x}, {y})\")"
      ],
      "metadata": {
        "colab": {
          "base_uri": "https://localhost:8080/"
        },
        "id": "f5trIlfmNfg9",
        "outputId": "dc29aa75-a158-437f-bee7-511bc2c4f95d"
      },
      "execution_count": 16,
      "outputs": [
        {
          "output_type": "stream",
          "name": "stdout",
          "text": [
            "\n",
            "경로 계획:\n",
            "출발지: (0, 0)\n",
            "경유지1: (5, 3)\n",
            "경유지2: (10, 8)\n",
            "목적지: (15, 12)\n"
          ]
        }
      ]
    },
    {
      "cell_type": "markdown",
      "source": [
        "교차로 정보들"
      ],
      "metadata": {
        "id": "AcwZ2UazQDsv"
      }
    },
    {
      "cell_type": "code",
      "source": [
        "intersections = [\n",
        "    ('안산역', 'green', 25),\n",
        "    ('호수', 'red', 40),\n",
        "    ('시랑초', 'yellow', 5),\n",
        "    ('가로수길2다', 'green', 15)\n",
        "]\n",
        "print(\"\\n교차로 신호등 현황:\")\n",
        "for intersection in intersections:\n",
        "    name, signal_color, remaining_time = intersection\n",
        "    print(f\"{name}: {signal_color} ({remaining_time}초)\")"
      ],
      "metadata": {
        "colab": {
          "base_uri": "https://localhost:8080/"
        },
        "id": "w7wp_2XMNfk2",
        "outputId": "f7d3a7a4-ca24-4c3f-9b93-adb626eea15d"
      },
      "execution_count": 17,
      "outputs": [
        {
          "output_type": "stream",
          "name": "stdout",
          "text": [
            "\n",
            "교차로 신호등 현황:\n",
            "안산역: green (25초)\n",
            "호수: red (40초)\n",
            "시랑초: yellow (5초)\n",
            "가로수길2다: green (15초)\n"
          ]
        }
      ]
    },
    {
      "cell_type": "markdown",
      "source": [
        "# PART 3: Tuple Unpacking + 딕셔너리 조합"
      ],
      "metadata": {
        "id": "yVtBKzRDE2m_"
      }
    },
    {
      "cell_type": "markdown",
      "source": [
        "차량별 위치 정보를 딕셔너리로 관리"
      ],
      "metadata": {
        "id": "Ao5h39GzQeBz"
      }
    },
    {
      "cell_type": "code",
      "source": [
        "vehicle_locations = {\n",
        "    'car_1': (127.1, 37.5, 60),    # 경도, 위도, 속도\n",
        "    'car_2': (127.2, 37.6, 45),\n",
        "    'car_3': (127.3, 37.4, 80),\n",
        "    'truck_001': (127.0, 37.3, 70)\n",
        "}\n",
        "print(\"차량별 현재 위치:\")\n",
        "for vehicle_id, location_data in vehicle_locations.items():\n",
        "    lon, lat, spd = location_data  # tuple unpacking\n",
        "    print(f\"{vehicle_id}: ({lon}, {lat}), {spd}km/h\")"
      ],
      "metadata": {
        "colab": {
          "base_uri": "https://localhost:8080/"
        },
        "id": "ePQTck0YNfDN",
        "outputId": "e133228c-bd1b-408f-ac57-d6079c78d04f"
      },
      "execution_count": 18,
      "outputs": [
        {
          "output_type": "stream",
          "name": "stdout",
          "text": [
            "차량별 현재 위치:\n",
            "car_1: (127.1, 37.5), 60km/h\n",
            "car_2: (127.2, 37.6), 45km/h\n",
            "car_3: (127.3, 37.4), 80km/h\n",
            "truck_001: (127.0, 37.3), 70km/h\n"
          ]
        }
      ]
    },
    {
      "cell_type": "markdown",
      "source": [
        "for 충전소 정보를 딕셔너리로 관리"
      ],
      "metadata": {
        "id": "hEqHCjuUQdd6"
      }
    },
    {
      "cell_type": "code",
      "source": [
        "charging_stations = {\n",
        "    '강남충전소': (127.027, 37.498, 5, 2),    # 경도, 위도, 총슬롯, 사용중슬롯\n",
        "    '서초충전소': (127.032, 37.483, 8, 6),\n",
        "    '송파충전소': (127.105, 37.514, 6, 1)\n",
        "}\n",
        "print(\"\\n충전소 현황:\")\n",
        "for station_name, station_info in charging_stations.items():\n",
        "    lon, lat, total_slots, used_slots = station_info\n",
        "    available = total_slots - used_slots\n",
        "    print(f\"{station_name}: 위치({lon}, {lat}), 사용가능 {available}/{total_slots}슬롯\")"
      ],
      "metadata": {
        "colab": {
          "base_uri": "https://localhost:8080/"
        },
        "id": "uZJ7daLmNfLS",
        "outputId": "8b6abbaf-876c-487c-df89-6ea71ad63765"
      },
      "execution_count": 19,
      "outputs": [
        {
          "output_type": "stream",
          "name": "stdout",
          "text": [
            "\n",
            "충전소 현황:\n",
            "강남충전소: 위치(127.027, 37.498), 사용가능 3/5슬롯\n",
            "서초충전소: 위치(127.032, 37.483), 사용가능 2/8슬롯\n",
            "송파충전소: 위치(127.105, 37.514), 사용가능 5/6슬롯\n"
          ]
        }
      ]
    },
    {
      "cell_type": "markdown",
      "source": [
        "주차장 구역별 정보"
      ],
      "metadata": {
        "id": "Tx5zYOLPQejX"
      }
    },
    {
      "cell_type": "code",
      "source": [
        "parking_areas = {\n",
        "    'A구역': (50, 45, 'compact'),     # 총자리, 사용중, 차량크기\n",
        "    'B구역': (30, 30, 'standard'),\n",
        "    'C구역': (20, 15, 'large'),\n",
        "    'D구역': (15, 8, 'handicapped')\n",
        "}\n",
        "print(\"\\n주차장 현황:\")\n",
        "for area_name, area_info in parking_areas.items():\n",
        "    total, occupied, car_type = area_info\n",
        "    available = total - occupied\n",
        "    utilization = round((occupied / total) * 100, 1)\n",
        "    print(f\"{area_name} ({car_type}): {available}/{total}자리 사용가능 (사용률 {utilization}%)\")\n"
      ],
      "metadata": {
        "colab": {
          "base_uri": "https://localhost:8080/"
        },
        "id": "4QhKygWqQeoK",
        "outputId": "5c5f2dcc-2077-4aab-9467-0b2a61a89dc8"
      },
      "execution_count": 20,
      "outputs": [
        {
          "output_type": "stream",
          "name": "stdout",
          "text": [
            "\n",
            "주차장 현황:\n",
            "A구역 (compact): 5/50자리 사용가능 (사용률 90.0%)\n",
            "B구역 (standard): 0/30자리 사용가능 (사용률 100.0%)\n",
            "C구역 (large): 5/20자리 사용가능 (사용률 75.0%)\n",
            "D구역 (handicapped): 7/15자리 사용가능 (사용률 53.3%)\n"
          ]
        }
      ]
    },
    {
      "cell_type": "markdown",
      "source": [
        "# 4. 실전 응용 - 종합 교통 관제 시스템"
      ],
      "metadata": {
        "id": "sUhUWPtbQesv"
      }
    },
    {
      "cell_type": "markdown",
      "source": [
        "실시간 교통 데이터 (시간, 위치, 속도, 차량타입, 차선)"
      ],
      "metadata": {
        "id": "5NGZWtFgRX3m"
      }
    },
    {
      "cell_type": "code",
      "source": [
        "traffic_data = [\n",
        "    ('09:15', (127.1, 37.5), 45, 'sedan', 1),\n",
        "    ('09:16', (127.2, 37.6), 60, 'truck', 2),\n",
        "    ('09:17', (127.3, 37.4), 30, 'bus', 1),\n",
        "    ('09:18', (127.0, 37.3), 80, 'sedan', 3)\n",
        "]\n",
        "print(\"실시간 교통 모니터링:\")\n",
        "for data in traffic_data:\n",
        "    time, position, speed, vehicle_type, lane = data\n",
        "    lon, lat = position  # 중첩 tuple unpacking\n",
        "    print(f\"{time} | {vehicle_type} | ({lon}, {lat}) | {speed}km/h | {lane}차선\")\n",
        "# 사고 신고 데이터 (시간, 위치, 심각도, 처리상태)\n",
        "accident_reports = [\n",
        "    ('10:30', (127.15, 37.55), 'minor', False),\n",
        "    ('10:45', (127.25, 37.65), 'major', True),\n",
        "    ('11:00', (127.35, 37.45), 'minor', False)\n",
        "]\n",
        "print(\"\\n사고 신고 현황:\")\n",
        "for report in accident_reports:\n",
        "    time, location, severity, handled = report\n",
        "    lon, lat = location\n",
        "    status = \"처리완료\" if handled else \"처리중\"\n",
        "    print(f\"{time} | ({lon}, {lat}) | {severity} | {status}\")"
      ],
      "metadata": {
        "colab": {
          "base_uri": "https://localhost:8080/"
        },
        "id": "J0ke4igQQexG",
        "outputId": "6f7e424e-42bc-4300-be49-7f9383810e26"
      },
      "execution_count": 21,
      "outputs": [
        {
          "output_type": "stream",
          "name": "stdout",
          "text": [
            "실시간 교통 모니터링:\n",
            "09:15 | sedan | (127.1, 37.5) | 45km/h | 1차선\n",
            "09:16 | truck | (127.2, 37.6) | 60km/h | 2차선\n",
            "09:17 | bus | (127.3, 37.4) | 30km/h | 1차선\n",
            "09:18 | sedan | (127.0, 37.3) | 80km/h | 3차선\n",
            "\n",
            "사고 신고 현황:\n",
            "10:30 | (127.15, 37.55) | minor | 처리중\n",
            "10:45 | (127.25, 37.65) | major | 처리완료\n",
            "11:00 | (127.35, 37.45) | minor | 처리중\n"
          ]
        }
      ]
    },
    {
      "cell_type": "markdown",
      "source": [
        "미처리 사고만 필터링"
      ],
      "metadata": {
        "id": "wHe5y_MQQe0q"
      }
    },
    {
      "cell_type": "code",
      "source": [
        "print(\"\\n미처리 사고:\")\n",
        "for report in accident_reports:\n",
        "    time, location, severity, handled = report\n",
        "    if not handled:\n",
        "        lon, lat = location\n",
        "        print(f\"- {time} | ({lon}, {lat}) | {severity} - 즉시 처리 필요\")"
      ],
      "metadata": {
        "colab": {
          "base_uri": "https://localhost:8080/"
        },
        "id": "E97vuZc_Qe4-",
        "outputId": "5950d0cc-31a5-46ca-ace3-e7e36fd54aca"
      },
      "execution_count": 22,
      "outputs": [
        {
          "output_type": "stream",
          "name": "stdout",
          "text": [
            "\n",
            "미처리 사고:\n",
            "- 10:30 | (127.15, 37.55) | minor - 즉시 처리 필요\n",
            "- 11:00 | (127.35, 37.45) | minor - 즉시 처리 필요\n"
          ]
        }
      ]
    },
    {
      "cell_type": "markdown",
      "source": [
        "날씨별 권장 주행 조건 (날씨, 최대속도, 안전거리배수, 라이트사용)\n"
      ],
      "metadata": {
        "id": "xjhsFlfSQe8D"
      }
    },
    {
      "cell_type": "code",
      "source": [
        "weather_conditions = [\n",
        "    ('맑음', 100, 1.0, False),\n",
        "    ('비', 80, 1.5, True),\n",
        "    ('눈', 60, 2.0, True),\n",
        "    ('안개', 50, 2.5, True)\n",
        "]\n",
        "current_weather = '비'  # 현재 날씨 설정\n",
        "\n",
        "print(f\"\\n현재 날씨: {current_weather}\")\n",
        "print(\"권장 주행 조건:\")\n",
        "for condition in weather_conditions:\n",
        "    weather, max_speed, distance_factor, lights_on = condition\n",
        "    if weather == current_weather:\n",
        "        print(f\"최대속도: {max_speed}km/h\")\n",
        "        print(f\"안전거리: 평소의 {distance_factor}배\")\n",
        "        print(f\"라이트 사용: {'필수' if lights_on else '선택'}\")\n",
        "        break"
      ],
      "metadata": {
        "colab": {
          "base_uri": "https://localhost:8080/"
        },
        "id": "H113zgZRQe_3",
        "outputId": "a42f6418-6ce0-4d80-bbfc-d03b6d4ec3a5"
      },
      "execution_count": 23,
      "outputs": [
        {
          "output_type": "stream",
          "name": "stdout",
          "text": [
            "\n",
            "현재 날씨: 비\n",
            "권장 주행 조건:\n",
            "최대속도: 80km/h\n",
            "안전거리: 평소의 1.5배\n",
            "라이트 사용: 필수\n"
          ]
        }
      ]
    },
    {
      "cell_type": "markdown",
      "source": [
        "차량 상태 진단 결과 (차량ID, 엔진상태점수, 브레이크상태점수, 종합판정)\n"
      ],
      "metadata": {
        "id": "1vYXcQszQfDD"
      }
    },
    {
      "cell_type": "code",
      "source": [
        "vehicle_diagnostics = {\n",
        "    'EV001': (95, 88, 'excellent'),\n",
        "    'EV002': (82, 75, 'good'),\n",
        "    'EV003': (65, 45, 'caution'),\n",
        "    'EV004': (45, 30, 'maintenance')\n",
        "}\n",
        "\n",
        "print(\"\\n차량 상태 진단:\")\n",
        "for vehicle_id, diagnosis in vehicle_diagnostics.items():\n",
        "    engine_score, brake_score, overall_status = diagnosis\n",
        "    avg_score = (engine_score + brake_score) / 2\n",
        "    print(f\"{vehicle_id}: 엔진 {engine_score}점, 브레이크 {brake_score}점, 평균 {avg_score:.1f}점 ({overall_status})\")\n"
      ],
      "metadata": {
        "colab": {
          "base_uri": "https://localhost:8080/"
        },
        "id": "hlB3_ApUQfHP",
        "outputId": "785050ab-ac1d-4e07-88a9-3416b4eb0aea"
      },
      "execution_count": 24,
      "outputs": [
        {
          "output_type": "stream",
          "name": "stdout",
          "text": [
            "\n",
            "차량 상태 진단:\n",
            "EV001: 엔진 95점, 브레이크 88점, 평균 91.5점 (excellent)\n",
            "EV002: 엔진 82점, 브레이크 75점, 평균 78.5점 (good)\n",
            "EV003: 엔진 65점, 브레이크 45점, 평균 55.0점 (caution)\n",
            "EV004: 엔진 45점, 브레이크 30점, 평균 37.5점 (maintenance)\n"
          ]
        }
      ]
    },
    {
      "cell_type": "markdown",
      "source": [
        "정비 필요 차량 필터링"
      ],
      "metadata": {
        "id": "Rv3TpOlyQfKw"
      }
    },
    {
      "cell_type": "code",
      "source": [
        "print(\"\\n정비 필요 차량:\")\n",
        "for vehicle_id, diagnosis in vehicle_diagnostics.items():\n",
        "    engine_score, brake_score, overall_status = diagnosis\n",
        "    if overall_status in ['caution', 'maintenance']:\n",
        "        print(f\"🔧 {vehicle_id}: {overall_status} - 점검 필요\")"
      ],
      "metadata": {
        "colab": {
          "base_uri": "https://localhost:8080/"
        },
        "id": "ArYvJVjvQfOt",
        "outputId": "9d6cdb06-f64b-4480-fe91-95ae427ed705"
      },
      "execution_count": 25,
      "outputs": [
        {
          "output_type": "stream",
          "name": "stdout",
          "text": [
            "\n",
            "정비 필요 차량:\n",
            "🔧 EV003: caution - 점검 필요\n",
            "🔧 EV004: maintenance - 점검 필요\n"
          ]
        }
      ]
    }
  ]
}