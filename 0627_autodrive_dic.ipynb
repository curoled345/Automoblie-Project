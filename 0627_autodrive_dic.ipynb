{
  "nbformat": 4,
  "nbformat_minor": 0,
  "metadata": {
    "colab": {
      "provenance": [],
      "authorship_tag": "ABX9TyNVcZRcA+XbPhOsTTO1QuAX",
      "include_colab_link": true
    },
    "kernelspec": {
      "name": "python3",
      "display_name": "Python 3"
    },
    "language_info": {
      "name": "python"
    }
  },
  "cells": [
    {
      "cell_type": "markdown",
      "metadata": {
        "id": "view-in-github",
        "colab_type": "text"
      },
      "source": [
        "<a href=\"https://colab.research.google.com/github/curoled345/Markdown/blob/main/0627_autodrive_dic.ipynb\" target=\"_parent\"><img src=\"https://colab.research.google.com/assets/colab-badge.svg\" alt=\"Open In Colab\"/></a>"
      ]
    },
    {
      "cell_type": "markdown",
      "source": [
        "# 1-1. list comprehension - 리스트를 효율적으로 생성하고 필터링"
      ],
      "metadata": {
        "id": "Ms_A1PcFyr2L"
      }
    },
    {
      "cell_type": "markdown",
      "source": [
        "\n",
        "\n",
        "*  **센서 데이터 필터링** - 특정 조건(안전거리)을 만족하는 데이터만 추출\n",
        "* **좌표 변환** - 상대좌표를 절대좌표로 변환하는 수학적 연산\n",
        "* **속도 제한** - 두 리스트를 비교하여 최솟값 선택\n",
        "* **경로 생성** - 수학적 계산으로 중간 포인트들 생성\n",
        "* **복합 조건 필터링** - 딕셔너리 데이터에서 다\n",
        "중 조건 검사\n",
        "\n"
      ],
      "metadata": {
        "id": "eLWDH6hYzbn7"
      }
    },
    {
      "cell_type": "markdown",
      "source": [
        "\n",
        " 1. 센서 데이터 필터링 - 안전 거리 이상의 장애물만 추출\n",
        "\n",
        "\n"
      ],
      "metadata": {
        "id": "Yi5qeHbqy4TW"
      }
    },
    {
      "cell_type": "code",
      "source": [
        "sensor_distances = [8.4, 5.2, 18.2, 5.5, 19.7, 15.1, 2.5, 2.9]\n",
        "safe_distances = [dist for dist in sensor_distances if dist > 5.0]\n",
        "print(\"안전 거리 이상 장애물:\", safe_distances)"
      ],
      "metadata": {
        "colab": {
          "base_uri": "https://localhost:8080/"
        },
        "id": "6PpfwXHBzwqy",
        "outputId": "5ca8e305-24a5-4f00-84a9-47e4a161d88e"
      },
      "execution_count": 29,
      "outputs": [
        {
          "output_type": "stream",
          "name": "stdout",
          "text": [
            "안전 거리 이상 장애물: [8.4, 5.2, 18.2, 5.5, 19.7, 15.1]\n"
          ]
        }
      ]
    },
    {
      "cell_type": "markdown",
      "source": [
        " 2. 좌표 변환 - 상대 좌표를 절대 좌표로 변환\n"
      ],
      "metadata": {
        "id": "y-Ag81rVzwC-"
      }
    },
    {
      "cell_type": "code",
      "source": [
        "vehicle_position = (36, 67)\n",
        "relative_points = [(-2, -3), (-5, -1), (5, 4), (0, -2)]\n",
        "absolute_points = [(x + vehicle_position[0], y + vehicle_position[1]) for x, y in relative_points]\n",
        "print(\"절대 좌표:\", absolute_points) # (x, y)"
      ],
      "metadata": {
        "colab": {
          "base_uri": "https://localhost:8080/"
        },
        "id": "fzjrUS4fzxLG",
        "outputId": "ffec2e80-2714-4d8a-b276-4218d8b1d7d2"
      },
      "execution_count": 30,
      "outputs": [
        {
          "output_type": "stream",
          "name": "stdout",
          "text": [
            "절대 좌표: [(34, 64), (31, 66), (41, 71), (36, 65)]\n"
          ]
        }
      ]
    },
    {
      "cell_type": "markdown",
      "source": [
        " 3. 속도 제한 적용 - 각 구간별 최대 속도 제한\n"
      ],
      "metadata": {
        "id": "2c3ZfEGuzxZ-"
      }
    },
    {
      "cell_type": "code",
      "source": [
        "current_speeds = [97, 70, 41, 31, 23, 32, 100]\n",
        "speed_limits = [68, 30, 63, 34, 40, 57, 50]\n",
        "adjusted_speeds = [min(current, limit) for current, limit in zip(current_speeds, speed_limits)]\n",
        "print(\"속도 제한 적용 후:\", adjusted_speeds)"
      ],
      "metadata": {
        "colab": {
          "base_uri": "https://localhost:8080/"
        },
        "id": "NCBNgW4Bzxfn",
        "outputId": "9b2e20ca-3245-48a6-9185-d2a1de526ab0"
      },
      "execution_count": 31,
      "outputs": [
        {
          "output_type": "stream",
          "name": "stdout",
          "text": [
            "속도 제한 적용 후: [68, 30, 41, 31, 23, 32, 50]\n"
          ]
        }
      ]
    },
    {
      "cell_type": "markdown",
      "source": [
        "4. 경로 포인트 생성 - 시작점과 끝점 사이의 중간 포인트들 생성\n"
      ],
      "metadata": {
        "id": "Og4oldk7zxl5"
      }
    },
    {
      "cell_type": "code",
      "source": [
        "start = (2, 3)\n",
        "end = (27, 26)\n",
        "num = 6\n",
        "path = [(start[0] + i * (end[0] - start[0]) / (num - 1),\n",
        "         start[1] + i * (end[1] - start[1]) / (num - 1))\n",
        "for i in range(num)]\n",
        "print(\"경로 포인트들:\", path)"
      ],
      "metadata": {
        "colab": {
          "base_uri": "https://localhost:8080/"
        },
        "id": "p6NLql-Xzxrb",
        "outputId": "d000036a-1013-498f-a6c5-96f602371432"
      },
      "execution_count": 32,
      "outputs": [
        {
          "output_type": "stream",
          "name": "stdout",
          "text": [
            "경로 포인트들: [(2.0, 3.0), (7.0, 7.6), (12.0, 12.2), (17.0, 16.8), (22.0, 21.4), (27.0, 26.0)]\n"
          ]
        }
      ]
    },
    {
      "cell_type": "markdown",
      "source": [
        "5. Bonus : 조건부 다중 필터링 - 위험 상황 감지\n"
      ],
      "metadata": {
        "id": "u18wFrk7zxxS"
      }
    },
    {
      "cell_type": "code",
      "source": [
        "sensor_data = [\n",
        "    {'type': 'camera', 'distance': 6.7, 'angle': -82},\n",
        "    {'type': 'radar', 'distance': 4.6, 'angle': 59},\n",
        "    {'type': 'radar', 'distance': 4.4, 'angle': 75},\n",
        "    {'type': 'radar', 'distance': 4.7, 'angle': 84}\n",
        "]\n",
        "dangers = [sensor for sensor in sensor_data\n",
        "                  if sensor['distance'] < 5.0 and abs(sensor['angle']) < 60]\n",
        "print(\"위험 감지 센서:\", dangers)"
      ],
      "metadata": {
        "colab": {
          "base_uri": "https://localhost:8080/"
        },
        "id": "Ht6Ytnakzx2i",
        "outputId": "ca0e1984-2478-4cd8-96dc-4d9948bfd5b9"
      },
      "execution_count": 33,
      "outputs": [
        {
          "output_type": "stream",
          "name": "stdout",
          "text": [
            "위험 감지 센서: [{'type': 'radar', 'distance': 4.6, 'angle': 59}]\n"
          ]
        }
      ]
    },
    {
      "cell_type": "markdown",
      "source": [
        " 6. 신호등 색상별 행동 결정"
      ],
      "metadata": {
        "id": "WaCmN17izx8P"
      }
    },
    {
      "cell_type": "code",
      "source": [
        "traffic_lights = [\n",
        "    {'color': 'red', 'time_left': 15},\n",
        "    {'color': 'green', 'time_left': 8},\n",
        "    {'color': 'yellow', 'time_left': 3},\n",
        "    {'color': 'green', 'time_left': 25}\n",
        "]\n",
        "\n",
        "stop_required = [light for light in traffic_lights\n",
        "                 if light['color'] == 'red' or\n",
        "                 (light['color'] == 'yellow' and light['time_left'] < 5)]\n",
        "print(\"정지 필요한 신호등:\", stop_required)"
      ],
      "metadata": {
        "id": "sS1-1uVgzyBm",
        "colab": {
          "base_uri": "https://localhost:8080/"
        },
        "outputId": "b2ede2e8-a47c-4f2a-86db-dc14f4cefaaf"
      },
      "execution_count": 34,
      "outputs": [
        {
          "output_type": "stream",
          "name": "stdout",
          "text": [
            "정지 필요한 신호등: [{'color': 'red', 'time_left': 15}, {'color': 'yellow', 'time_left': 3}]\n"
          ]
        }
      ]
    },
    {
      "cell_type": "markdown",
      "source": [
        "7. 배터리 잔량에 따른 충전소 필터링"
      ],
      "metadata": {
        "id": "Hkm2cfYezyHK"
      }
    },
    {
      "cell_type": "code",
      "source": [
        "charging_stations = [\n",
        "    {'name': '중앙역', 'distance': 14, 'power': 'fast'},\n",
        "    {'name': '반월역', 'distance': 9, 'power': 'normal'},\n",
        "    {'name': '상록수역', 'distance': 21, 'power': 'fast'},\n",
        "    {'name': '중앙역', 'distance': 4, 'power': 'slow'}\n",
        "]\n",
        "\n",
        "battery_percent = 30  # 배터리 30% 남음\n",
        "urgent_chargers = [station for station in charging_stations\n",
        "                   if station['distance'] < 10 and station['power'] != 'slow']\n",
        "print(\"긴급 충전 가능한 곳:\", urgent_chargers)"
      ],
      "metadata": {
        "colab": {
          "base_uri": "https://localhost:8080/"
        },
        "id": "iDSXz67hzyM2",
        "outputId": "6052cf7f-7533-446b-8b3e-717b1f7b6dff"
      },
      "execution_count": 35,
      "outputs": [
        {
          "output_type": "stream",
          "name": "stdout",
          "text": [
            "긴급 충전 가능한 곳: [{'name': '반월역', 'distance': 9, 'power': 'normal'}]\n"
          ]
        }
      ]
    },
    {
      "cell_type": "markdown",
      "source": [
        "8. 주차 공간 크기 확인"
      ],
      "metadata": {
        "id": "aBFhorfJ0mXx"
      }
    },
    {
      "cell_type": "code",
      "source": [
        "parking_spaces = [\n",
        "    {'id': 'A9', 'length': 4.8, 'width': 2.3, 'occupied': False},\n",
        "    {'id': 'A2', 'length': 5.2, 'width': 2.5, 'occupied': True},\n",
        "    {'id': 'B1', 'length': 4.5, 'width': 2.1, 'occupied': False},\n",
        "    {'id': 'C7', 'length': 5.5, 'width': 2.8, 'occupied': False}\n",
        "]\n",
        "\n",
        "vehicle_size = {'length': 4.7, 'width': 2.0}  # 내 차 크기\n",
        "suitable_spots = [spot for spot in parking_spaces\n",
        "                  if not spot['occupied'] and\n",
        "                  spot['length'] > vehicle_size['length'] and\n",
        "                  spot['width'] > vehicle_size['width']]\n",
        "print(\"주차 가능한 공간:\", suitable_spots)"
      ],
      "metadata": {
        "colab": {
          "base_uri": "https://localhost:8080/"
        },
        "id": "UrxKwYG20md6",
        "outputId": "c6c51c43-5281-44af-ebe9-04e9ff8c0ac5"
      },
      "execution_count": 36,
      "outputs": [
        {
          "output_type": "stream",
          "name": "stdout",
          "text": [
            "주차 가능한 공간: [{'id': 'A9', 'length': 4.8, 'width': 2.3, 'occupied': False}, {'id': 'C7', 'length': 5.5, 'width': 2.8, 'occupied': False}]\n"
          ]
        }
      ]
    },
    {
      "cell_type": "markdown",
      "source": [
        "9. 차선별 평균 속도 계산"
      ],
      "metadata": {
        "id": "RuUosgDM0mip"
      }
    },
    {
      "cell_type": "code",
      "source": [
        "lane_vehicles = [\n",
        "    {'lane': 1, 'speed': 65}, {'lane': 2, 'speed': 80}, {'lane': 1, 'speed': 70},\n",
        "    {'lane': 3, 'speed': 85}, {'lane': 2, 'speed': 75}, {'lane': 1, 'speed': 60},\n",
        "    {'lane': 3, 'speed': 90}, {'lane': 2, 'speed': 82}\n",
        "]\n",
        "\n",
        "# 2차선 차량들의 속도만 추출\n",
        "lane2_speeds = [car['speed'] for car in lane_vehicles if car['lane'] == 2]\n",
        "lane2_avg = sum(lane2_speeds) / len(lane2_speeds)\n",
        "print(\"2차선 평균 속도:\", round(lane2_avg, 1), \"km/h\")"
      ],
      "metadata": {
        "colab": {
          "base_uri": "https://localhost:8080/"
        },
        "id": "VteadCvm0moq",
        "outputId": "61aac88c-4f8d-48e3-df4b-114553257fc7"
      },
      "execution_count": 37,
      "outputs": [
        {
          "output_type": "stream",
          "name": "stdout",
          "text": [
            "2차선 평균 속도: 79.0 km/h\n"
          ]
        }
      ]
    },
    {
      "cell_type": "markdown",
      "source": [
        "10. 야간/악천후 시 센서 상태 체크\n"
      ],
      "metadata": {
        "id": "zNVeFf8c0mxw"
      }
    },
    {
      "cell_type": "code",
      "source": [
        "sensor_status = [\n",
        "    {'name': 'front_camera', 'visibility': 0.3, 'working': True},\n",
        "    {'name': 'rear_camera', 'visibility': 0.8, 'working': True},\n",
        "    {'name': 'side_lidar', 'visibility': 0.9, 'working': False},\n",
        "    {'name': 'front_radar', 'visibility': 0.7, 'working': True}\n",
        "]\n",
        "reliable_sensors = [sensor['name'] for sensor in sensor_status\n",
        "                    if sensor['working'] and sensor['visibility'] > 0.5]\n",
        "print(\"신뢰할 수 있는 센서:\", reliable_sensors)"
      ],
      "metadata": {
        "id": "qpV2Yq-c0m2B",
        "colab": {
          "base_uri": "https://localhost:8080/"
        },
        "outputId": "f4382228-2f50-418e-896c-92b5ab48ae64"
      },
      "execution_count": 38,
      "outputs": [
        {
          "output_type": "stream",
          "name": "stdout",
          "text": [
            "신뢰할 수 있는 센서: ['rear_camera', 'front_radar']\n"
          ]
        }
      ]
    },
    {
      "cell_type": "markdown",
      "source": [
        "# 1-2. dictionary comprehension - 딕셔너리 생성 및 변환\n"
      ],
      "metadata": {
        "id": "xVQs1vmb0m7Z"
      }
    },
    {
      "cell_type": "markdown",
      "source": [
        "* 리스트 생성: ['item1', 'item2']\n",
        "* 딕셔너리 생성: {}\n",
        "* 딕셔너리 값 할당: dict['key'] = value\n",
        "* 딕셔너리 값 조회: dict['key']\n",
        "* print(): 출력"
      ],
      "metadata": {
        "id": "XtyyU3rD7hDk"
      }
    },
    {
      "cell_type": "markdown",
      "source": [
        "센서 데이터 : 각 센서별 감지 거리 저장"
      ],
      "metadata": {
        "id": "R6TuthrR0nE5"
      }
    },
    {
      "cell_type": "code",
      "source": [
        "# 빈 센서 데이터 딕셔너리 생성\n",
        "sensor_data = {}\n",
        "\n",
        "# 카메라 센서 데이터 추가\n",
        "sensor_data['camera'] = 8.5\n",
        "\n",
        "# 라이다 센서 데이터 추가\n",
        "sensor_data['lidar'] = 12.3\n",
        "\n",
        "# 최종 결과\n",
        "print(sensor_data)  # {'camera': 8.5, 'lidar': 12.3}"
      ],
      "metadata": {
        "id": "q9DjsWge0nJs",
        "colab": {
          "base_uri": "https://localhost:8080/"
        },
        "outputId": "cf53683a-9318-4886-f8f3-acfbe5f672e1"
      },
      "execution_count": 39,
      "outputs": [
        {
          "output_type": "stream",
          "name": "stdout",
          "text": [
            "{'camera': 8.5, 'lidar': 12.3}\n"
          ]
        }
      ]
    },
    {
      "cell_type": "markdown",
      "source": [
        "경로 계획 : 목적지별 거리 정보 관리"
      ],
      "metadata": {
        "id": "c-DUGtrJ0nOC"
      }
    },
    {
      "cell_type": "code",
      "source": [
        "destinations = ['집', '학교', '편의점', 'PC방']\n",
        "distances_km = [0, 15, 8, 12]\n",
        "\n",
        "route_plan = {}\n",
        "route_plan['집'] = 0\n",
        "route_plan['학교'] = 658\n",
        "route_plan['편의점'] = 9\n",
        "route_plan['PC방'] = 34\n",
        "\n",
        "print(\"목적지별 거리:\", route_plan)"
      ],
      "metadata": {
        "id": "pU7rtkxG0nSZ",
        "colab": {
          "base_uri": "https://localhost:8080/"
        },
        "outputId": "d601868c-041a-4116-cbe9-c854097ac2c1"
      },
      "execution_count": 40,
      "outputs": [
        {
          "output_type": "stream",
          "name": "stdout",
          "text": [
            "목적지별 거리: {'집': 0, '학교': 658, '편의점': 9, 'PC방': 34}\n"
          ]
        }
      ]
    },
    {
      "cell_type": "markdown",
      "source": [
        "차량 점검 : 부품별 상태 확인"
      ],
      "metadata": {
        "id": "jHTyvakg0nWU"
      }
    },
    {
      "cell_type": "code",
      "source": [
        "vehicle_parts = ['엔진', '브레이크', '타이어', '핸들']\n",
        "status_codes = ['정상', '비정상', '교체필요', '정상']\n",
        "\n",
        "vehicle_status = {}\n",
        "vehicle_status['엔진'] = '정상'\n",
        "vehicle_status['브레이크'] = '비정상'\n",
        "vehicle_status['타이어'] = '교체필요'\n",
        "vehicle_status['배터리'] = '정상'\n",
        "\n",
        "print(\"차량 상태:\", vehicle_status)"
      ],
      "metadata": {
        "id": "ehea4j0l0nax",
        "colab": {
          "base_uri": "https://localhost:8080/"
        },
        "outputId": "90d40e48-214b-468f-88c9-9acc60df0036"
      },
      "execution_count": 41,
      "outputs": [
        {
          "output_type": "stream",
          "name": "stdout",
          "text": [
            "차량 상태: {'엔진': '정상', '브레이크': '비정상', '타이어': '교체필요', '배터리': '정상'}\n"
          ]
        }
      ]
    },
    {
      "cell_type": "markdown",
      "source": [
        "신호등 : 교차로별 현재 신호 상태"
      ],
      "metadata": {
        "id": "F1cNnoly0neh"
      }
    },
    {
      "cell_type": "code",
      "source": [
        "intersections = ['중앙역', '안산역', '신길온천']\n",
        "light_colors = ['빨강', '초록', '노랑']\n",
        "\n",
        "traffic_lights = {}\n",
        "traffic_lights['중앙역'] = '빨강'\n",
        "traffic_lights['안산역'] = '초록'\n",
        "traffic_lights['신길온천'] = '노랑'\n",
        "\n",
        "print(\"교차로 신호등:\", traffic_lights)"
      ],
      "metadata": {
        "id": "34AhXfYI0nkp",
        "colab": {
          "base_uri": "https://localhost:8080/"
        },
        "outputId": "84b300d9-ffb4-4409-856e-568018258fd9"
      },
      "execution_count": 42,
      "outputs": [
        {
          "output_type": "stream",
          "name": "stdout",
          "text": [
            "교차로 신호등: {'중앙역': '빨강', '안산역': '초록', '신길온천': '노랑'}\n"
          ]
        }
      ]
    },
    {
      "cell_type": "markdown",
      "source": [
        "주차장: 구역별 빈자리 개수"
      ],
      "metadata": {
        "id": "hdLLPiKh0noh"
      }
    },
    {
      "cell_type": "code",
      "source": [
        "parking_zones = ['A구역', 'B구역', 'C구역', 'D구역']\n",
        "empty_spots = [5, 0, 12, 3]\n",
        "\n",
        "parking_info = {}\n",
        "parking_info['A구역'] = 5\n",
        "parking_info['B구역'] = 0\n",
        "parking_info['C구역'] = 12\n",
        "parking_info['D구역'] = 3\n",
        "\n",
        "print(\"주차장 빈자리:\", parking_info)"
      ],
      "metadata": {
        "id": "PZR_te5i0ntK",
        "colab": {
          "base_uri": "https://localhost:8080/"
        },
        "outputId": "4c5a4a5b-e97a-4d1e-d0e9-8da0ba60de32"
      },
      "execution_count": 43,
      "outputs": [
        {
          "output_type": "stream",
          "name": "stdout",
          "text": [
            "주차장 빈자리: {'A구역': 5, 'B구역': 0, 'C구역': 12, 'D구역': 3}\n"
          ]
        }
      ]
    },
    {
      "cell_type": "markdown",
      "source": [
        "속도 제한: 도로 종류별 제한속도\n"
      ],
      "metadata": {
        "id": "O-cEmDMg0nxR"
      }
    },
    {
      "cell_type": "code",
      "source": [
        "road_sections = ['시내도로', '국도', '고속도로', '스쿨존']\n",
        "speed_limits = [50, 70, 100, 30]\n",
        "\n",
        "speed_zones = {}\n",
        "speed_zones['시내도로'] = 50\n",
        "speed_zones['국도'] = 70\n",
        "speed_zones['고속도로'] = 100\n",
        "speed_zones['스쿨존'] = 30\n",
        "\n",
        "print(\"구간별 제한속도:\", speed_zones)"
      ],
      "metadata": {
        "id": "pbbyUjgc0n2J",
        "colab": {
          "base_uri": "https://localhost:8080/"
        },
        "outputId": "9d2f46d6-3ea4-4f75-9dc4-d37ef761648c"
      },
      "execution_count": 44,
      "outputs": [
        {
          "output_type": "stream",
          "name": "stdout",
          "text": [
            "구간별 제한속도: {'시내도로': 50, '국도': 70, '고속도로': 100, '스쿨존': 30}\n"
          ]
        }
      ]
    },
    {
      "cell_type": "markdown",
      "source": [
        "주유소: 각 주유소까지의 거리\n"
      ],
      "metadata": {
        "id": "L3Tng1fm0n7B"
      }
    },
    {
      "cell_type": "code",
      "source": [
        "station_names = ['GS칼텍스', 'S-Oil', '농협', 'SK에너지']\n",
        "distances_to_stations = [2.5, 5.8, 1.2, 4.3]\n",
        "\n",
        "fuel_stations = {}\n",
        "fuel_stations['GS칼텍스'] = 2.5\n",
        "fuel_stations['S-Oil'] = 5.8\n",
        "fuel_stations['농협'] = 1.2\n",
        "fuel_stations['SK에너지'] = 4.3\n",
        "\n",
        "print(\"주유소까지 거리:\", fuel_stations)"
      ],
      "metadata": {
        "id": "3oRTqHLv0oAS",
        "colab": {
          "base_uri": "https://localhost:8080/"
        },
        "outputId": "e1c88290-9e43-4b76-91e2-6ed6bee068d9"
      },
      "execution_count": 45,
      "outputs": [
        {
          "output_type": "stream",
          "name": "stdout",
          "text": [
            "주유소까지 거리: {'GS칼텍스': 2.5, 'S-Oil': 5.8, '농협': 1.2, 'SK에너지': 4.3}\n"
          ]
        }
      ]
    },
    {
      "cell_type": "markdown",
      "source": [
        "날씨 대응: 날씨에 따른 주행 모드"
      ],
      "metadata": {
        "id": "1THWWk9S8-ve"
      }
    },
    {
      "cell_type": "code",
      "source": [
        "weather_conditions = ['흐림', '비', '눈', '안개']\n",
        "drive_modes = ['일반', '주의', '서행', '서행']\n",
        "\n",
        "weather_driving = {}\n",
        "weather_driving['흐림'] = '일반'\n",
        "weather_driving['비'] = '주의'\n",
        "weather_driving['눈'] = '서행'\n",
        "weather_driving['안개'] = '서행'\n",
        "\n",
        "print(\"날씨별 주행모드:\", weather_driving)"
      ],
      "metadata": {
        "colab": {
          "base_uri": "https://localhost:8080/"
        },
        "id": "9QQWslB_8-11",
        "outputId": "68330db6-487c-4cd3-fb10-ed38ad20c0bb"
      },
      "execution_count": 46,
      "outputs": [
        {
          "output_type": "stream",
          "name": "stdout",
          "text": [
            "날씨별 주행모드: {'흐림': '일반', '비': '주의', '눈': '서행', '안개': '서행'}\n"
          ]
        }
      ]
    },
    {
      "cell_type": "markdown",
      "source": [
        " 9. 간단한 데이터 조회 예제\n"
      ],
      "metadata": {
        "id": "4Q0uOOh68-6e"
      }
    },
    {
      "cell_type": "code",
      "source": [
        "print(\"\\데이터 조회 예제\")\n",
        "print(\"라이다 센서 거리:\", sensor_data['lidar'], \"미터\")\n",
        "print(\"학교까지 거리:\", route_plan['학교'], \"km\")\n",
        "print(\"엔진 상태 :\", vehicle_status['엔진'])\n",
        "print(\"중앙역 신호등:\", traffic_lights['중앙역'])\n",
        "print(\"C구역 빈자리:\", parking_info['C구역'], \"개\")\n",
        "print(\"고속도로 제한속도:\", speed_zones['고속도로'], \"km/h\")\n",
        "print(\"가장 가까운 충전소:\", \"SK에너지\", fuel_stations['SK에너지'], \"km\")\n",
        "print(\"비올 때 주행모드:\", weather_driving['비'])"
      ],
      "metadata": {
        "colab": {
          "base_uri": "https://localhost:8080/"
        },
        "id": "ELhSPVN_8-_u",
        "outputId": "46ff6a4b-efe6-410c-f4b3-ba3d3b17b4d7"
      },
      "execution_count": 47,
      "outputs": [
        {
          "output_type": "stream",
          "name": "stdout",
          "text": [
            "\\데이터 조회 예제\n",
            "라이다 센서 거리: 12.3 미터\n",
            "학교까지 거리: 658 km\n",
            "엔진 상태 : 정상\n",
            "중앙역 신호등: 빨강\n",
            "C구역 빈자리: 12 개\n",
            "고속도로 제한속도: 100 km/h\n",
            "가장 가까운 충전소: SK에너지 4.3 km\n",
            "비올 때 주행모드: 주의\n"
          ]
        }
      ]
    },
    {
      "cell_type": "markdown",
      "source": [
        "# 자율주행 고급 과제 모음 - 리스트와 딕셔너리 활용"
      ],
      "metadata": {
        "id": "XipgV2Ae8_EK"
      }
    },
    {
      "cell_type": "markdown",
      "source": [
        "과제 1: 스마트 신호등 타이밍 최적화"
      ],
      "metadata": {
        "id": "GvryVUOw9LH1"
      }
    },
    {
      "cell_type": "code",
      "source": [
        "intersections = ['상록수역앞', '한샘앞', '프리지오3가', '성호공원']\n",
        "waiting_cars = [12, 8, 15, 5]\n",
        "\n",
        "# 현재 신호등 상태와 남은 시간\n",
        "traffic_signals = {}\n",
        "traffic_signals['상록수역앞'] = {'color': '빨강', 'time_left': 25, 'waiting': 12}\n",
        "traffic_signals['한샘앞'] = {'color': '초록', 'time_left': 15, 'waiting': 8}\n",
        "traffic_signals['프리지오3가'] = {'color': '빨강', 'time_left': 40, 'waiting': 15}\n",
        "traffic_signals['성호공원'] = {'color': '노랑', 'time_left': 3, 'waiting': 5}\n",
        "\n",
        "print(\"현재 교차로 상황:\")\n",
        "for intersection in traffic_signals:\n",
        "    signal = traffic_signals[intersection]\n",
        "    print(f\"{intersection}: {signal['color']} {signal['time_left']}초, 대기차량 {signal['waiting']}대\")\n",
        "\n",
        "# 우선순위 교차로 선정 (대기차량 10대 이상이면 우선처리)\n",
        "print(\"\\n- 우선처리 필요 교차로:\")\n",
        "for intersection in traffic_signals:\n",
        "    if traffic_signals[intersection]['waiting'] >= 10:\n",
        "        print(f\" {intersection}: 대기차량 {traffic_signals[intersection]['waiting']}대\")"
      ],
      "metadata": {
        "colab": {
          "base_uri": "https://localhost:8080/"
        },
        "id": "JqZQGCtE8_I2",
        "outputId": "6c265feb-8f5e-4d14-9a61-a3928d3f1b4e"
      },
      "execution_count": 48,
      "outputs": [
        {
          "output_type": "stream",
          "name": "stdout",
          "text": [
            "현재 교차로 상황:\n",
            "상록수역앞: 빨강 25초, 대기차량 12대\n",
            "한샘앞: 초록 15초, 대기차량 8대\n",
            "프리지오3가: 빨강 40초, 대기차량 15대\n",
            "성호공원: 노랑 3초, 대기차량 5대\n",
            "\n",
            "- 우선처리 필요 교차로:\n",
            " 상록수역앞: 대기차량 12대\n",
            " 프리지오3가: 대기차량 15대\n"
          ]
        }
      ]
    },
    {
      "cell_type": "markdown",
      "source": [
        "과제 2: 자동 발렛파킹 시스템"
      ],
      "metadata": {
        "id": "LZjBnxhV8_PO"
      }
    },
    {
      "cell_type": "code",
      "source": [
        "# 차량 크기별 분류\n",
        "vehicle_sizes = ['소형', '중형', '대형', 'SUV']\n",
        "size_counts = [15, 20, 8, 12]\n",
        "\n",
        "# 주차공간 크기별 현황\n",
        "parking_spaces = {}\n",
        "parking_spaces['소형전용'] = {'total': 30, 'occupied': 15, 'size_limit': '소형'}\n",
        "parking_spaces['일반공간'] = {'total': 40, 'occupied': 28, 'size_limit': '중형'}\n",
        "parking_spaces['대형공간'] = {'total': 15, 'occupied': 8, 'size_limit': '대형'}\n",
        "parking_spaces['SUV전용'] = {'total': 20, 'occupied': 12, 'size_limit': 'SUV'}\n",
        "\n",
        "print(\"주차공간 현황:\")\n",
        "for space_type in parking_spaces:\n",
        "    space = parking_spaces[space_type]\n",
        "    available = space['total'] - space['occupied']\n",
        "    print(f\"{space_type}: {available}/{space['total']} 가능 ({space['size_limit']} 전용)\")\n",
        "\n",
        "# 신규 차량 주차 시뮬레이션\n",
        "new_vehicle = 'SUV'\n",
        "print(f\"\\n신규 {new_vehicle} 차량 주차 요청\")\n"
      ],
      "metadata": {
        "colab": {
          "base_uri": "https://localhost:8080/"
        },
        "id": "593OAsbQ8_WW",
        "outputId": "a3143cdb-e3b8-4b15-bb51-10e3296b39e9"
      },
      "execution_count": 49,
      "outputs": [
        {
          "output_type": "stream",
          "name": "stdout",
          "text": [
            "주차공간 현황:\n",
            "소형전용: 15/30 가능 (소형 전용)\n",
            "일반공간: 12/40 가능 (중형 전용)\n",
            "대형공간: 7/15 가능 (대형 전용)\n",
            "SUV전용: 8/20 가능 (SUV 전용)\n",
            "\n",
            "신규 SUV 차량 주차 요청\n"
          ]
        }
      ]
    },
    {
      "cell_type": "markdown",
      "source": [
        "과제 3: 차량 군집주행 관리 시스템"
      ],
      "metadata": {
        "id": "nL8twoWe8_ce"
      }
    },
    {
      "cell_type": "code",
      "source": [
        "# 군집주행 그룹 정보\n",
        "convoy_groups = ['그룹A', '그룹B', '그룹C']\n",
        "group_vehicles = [[3, 4, 2], [5, 6, 8], [2, 3]]  # 각 그룹의 차량 수\n",
        "\n",
        "# 각 그룹별 상세 정보\n",
        "convoy_info = {}\n",
        "convoy_info['그룹A'] = {'vehicles': 3, 'leader_speed': 80, 'formation': '일렬'}\n",
        "convoy_info['그룹B'] = {'vehicles': 5, 'leader_speed': 70, 'formation': '삼각'}\n",
        "convoy_info['그룹C'] = {'vehicles': 2, 'leader_speed': 90, 'formation': '병렬'}\n",
        "\n",
        "print(\"군집주행 현황:\")\n",
        "for group in convoy_groups:\n",
        "    info = convoy_info[group]\n",
        "    print(f\"{group}: {info['vehicles']}대, 속도 {info['leader_speed']}km/h, {info['formation']}대형\")\n",
        "\n",
        "# 안전 속도 권장 (5대 이상이면 속도 제한)\n",
        "print(\"\\n안전 권장사항:\")\n",
        "for group in convoy_groups:\n",
        "    info = convoy_info[group]\n",
        "    if info['vehicles'] >= 5:\n",
        "        recommended_speed = 60\n",
        "        print(f\"{group}: 차량 {info['vehicles']}대로 인해 {recommended_speed}km/h 이하 권장\")\n",
        "suitable_spaces = []\n",
        "for space_type in parking_spaces:\n",
        "    space = parking_spaces[space_type]\n",
        "    available = space['total'] - space['occupied']\n",
        "    if space['size_limit'] == new_vehicle and available > 0:\n",
        "        suitable_spaces.append(space_type)\n",
        "\n",
        "if suitable_spaces:\n",
        "    print(f {suitable_spaces[0]}에 주차 가능\")\n",
        "else:\n",
        "    print(\" 적합한 주차공간 없음\")"
      ],
      "metadata": {
        "colab": {
          "base_uri": "https://localhost:8080/"
        },
        "id": "UuteL7Wf8_ie",
        "outputId": "fc27ebc2-d935-4c99-b152-82a3aadfcf99"
      },
      "execution_count": 50,
      "outputs": [
        {
          "output_type": "stream",
          "name": "stdout",
          "text": [
            "군집주행 현황:\n",
            "그룹A: 3대, 속도 80km/h, 일렬대형\n",
            "그룹B: 5대, 속도 70km/h, 삼각대형\n",
            "그룹C: 2대, 속도 90km/h, 병렬대형\n",
            "\n",
            "안전 권장사항:\n",
            "그룹B: 차량 5대로 인해 60km/h 이하 권장\n",
            " SUV전용에 주차 가능\n"
          ]
        }
      ]
    },
    {
      "cell_type": "markdown",
      "source": [
        "과제 4 : 도로 위험도 평가 및 경고 시스템"
      ],
      "metadata": {
        "id": "qI0P_swA8_ng"
      }
    },
    {
      "cell_type": "code",
      "metadata": {
        "id": "2725adeb"
      },
      "source": [
        "# 전기차 fleet 상태 (예시 데이터)\n",
        "ev_fleet = ['차량A', '차량B', '차량C', '차량D']\n",
        "ev_status = {\n",
        "    '차량A': {'battery': 45, 'location': '강남'},\n",
        "    '차량B': {'battery': 20, 'location': '서초'},\n",
        "    '차량C': {'battery': 60, 'location': '종로'},\n",
        "    '차량D': {'battery': 15, 'location': '강남'}\n",
        "}"
      ],
      "execution_count": 51,
      "outputs": []
    },
    {
      "cell_type": "code",
      "source": [
        "print(\"\\n긴급 충전 필요:\")\n",
        "urgent_vehicles = []\n",
        "for vehicle in ev_fleet:\n",
        "    if ev_status[vehicle]['battery'] <= 30:\n",
        "        urgent_vehicles.append(vehicle)\n",
        "        print(f\" {vehicle}: {ev_status[vehicle]['battery']}% - 즉시 충전 필요\")\n",
        "\n",
        "# 충전소 예약 시스템\n",
        "charging_stations = {}\n",
        "charging_stations['강남충전소'] = {'slots': 5, 'reserved': 2, 'fast_charge': True}\n",
        "charging_stations['서초충전소'] = {'slots': 3, 'reserved': 1, 'fast_charge': False}\n",
        "charging_stations['종로충전소'] = {'slots': 4, 'reserved': 4, 'fast_charge': True}\n",
        "\n",
        "print(\"\\n충전소 예약 현황:\")\n",
        "for station in charging_stations:\n",
        "    info = charging_stations[station]\n",
        "    available = info['slots'] - info['reserved']\n",
        "    charge_type = \"급속\" if info['fast_charge'] else \"완속\"\n",
        "    print(f\"{station}: {available}/{info['slots']} 이용가능 ({charge_type})\")\n",
        "\n"
      ],
      "metadata": {
        "colab": {
          "base_uri": "https://localhost:8080/"
        },
        "id": "RVF59zov8_v-",
        "outputId": "a637e92c-dc5e-4fba-d9f9-ef8fe6ef0da7"
      },
      "execution_count": 52,
      "outputs": [
        {
          "output_type": "stream",
          "name": "stdout",
          "text": [
            "\n",
            "긴급 충전 필요:\n",
            " 차량B: 20% - 즉시 충전 필요\n",
            " 차량D: 15% - 즉시 충전 필요\n",
            "\n",
            "충전소 예약 현황:\n",
            "강남충전소: 3/5 이용가능 (급속)\n",
            "서초충전소: 2/3 이용가능 (완속)\n",
            "종로충전소: 0/4 이용가능 (급속)\n"
          ]
        }
      ]
    },
    {
      "cell_type": "markdown",
      "source": [
        "과제 5: 도로 위험도 평가 및 경고 시스템"
      ],
      "metadata": {
        "id": "FXhwiT418_0F"
      }
    },
    {
      "cell_type": "code",
      "metadata": {
        "id": "7ba4d598"
      },
      "source": [
        "# 도로 구간별 위험 요소\n",
        "road_segments = ['구간A', '구간B', '구간C', '구간D']\n",
        "road_conditions = [\n",
        "    {'rain': True, 'fog': False, 'construction': False, 'accident': False},\n",
        "    {'rain': False, 'fog': True, 'construction': True, 'accident': False},\n",
        "    {'rain': True, 'fog': False, 'construction': False, 'accident': True},\n",
        "    {'rain': False, 'fog': False, 'construction': False, 'accident': False}\n",
        "]"
      ],
      "execution_count": 53,
      "outputs": []
    },
    {
      "cell_type": "markdown",
      "source": [
        "과제 6: 도로 위험도 평가 및 경고 시스템"
      ],
      "metadata": {
        "id": "KCEKLt7J9lUF"
      }
    },
    {
      "cell_type": "code",
      "source": [
        "road_safety = {}\n",
        "for i, segment in enumerate(road_segments):\n",
        "    conditions = road_conditions[i]\n",
        "    risk_score = 0\n",
        "\n",
        "    if conditions['rain']:\n",
        "        risk_score += 20\n",
        "    if conditions['fog']:\n",
        "        risk_score += 30\n",
        "    if conditions['construction']:\n",
        "        risk_score += 25\n",
        "    if conditions['accident']:\n",
        "        risk_score += 50\n",
        "\n",
        "    road_safety[segment] = {'risk_score': risk_score, 'conditions': conditions}\n",
        "\n",
        "print(\"도로 구간별 위험도:\")\n",
        "for segment in road_segments:\n",
        "    safety = road_safety[segment]\n",
        "    risk = safety['risk_score']\n",
        "    conditions = safety['conditions']\n",
        "\n",
        "    if risk >= 50:\n",
        "        level = \"매우위험\"\n",
        "    elif risk >= 30:\n",
        "        level = \"위험\"\n",
        "    elif risk >= 15:\n",
        "        level = \"주의\"\n",
        "    else:\n",
        "        level = \"안전\"\n",
        "\n",
        "    print(f\"{segment}: {risk}점 ({level})\")\n",
        "\n",
        "    # 위험 요소 상세 표시\n",
        "    warnings = []\n",
        "    if conditions['rain']:\n",
        "        warnings.append(\"우천\")\n",
        "    if conditions['fog']:\n",
        "        warnings.append(\"안개\")\n",
        "    if conditions['construction']:\n",
        "        warnings.append(\"공사중\")\n",
        "    if conditions['accident']:\n",
        "        warnings.append(\"사고발생\")\n",
        "\n",
        "    if warnings:\n",
        "        print(f\" 위험요소: {', '.join(warnings)}\")\n"
      ],
      "metadata": {
        "colab": {
          "base_uri": "https://localhost:8080/"
        },
        "id": "il0QpSVI9lZi",
        "outputId": "5ff3a3aa-11da-4424-f3c1-20b7c568e18e"
      },
      "execution_count": 54,
      "outputs": [
        {
          "output_type": "stream",
          "name": "stdout",
          "text": [
            "도로 구간별 위험도:\n",
            "구간A: 20점 (주의)\n",
            " 위험요소: 우천\n",
            "구간B: 55점 (매우위험)\n",
            " 위험요소: 안개, 공사중\n",
            "구간C: 70점 (매우위험)\n",
            " 위험요소: 우천, 사고발생\n",
            "구간D: 0점 (안전)\n"
          ]
        }
      ]
    },
    {
      "cell_type": "markdown",
      "source": [
        "과제 6 : 승객 승하차 최적화 시스템"
      ],
      "metadata": {
        "id": "Lizv_b799lei"
      }
    },
    {
      "cell_type": "code",
      "source": [
        "\n",
        "bus_stops = ['정류장1', '정류장2', '정류장3', '정류장4', '정류장5']\n",
        "waiting_passengers = [8, 3, 12, 6, 15]\n",
        "\n",
        "# 정류장별 상세 정보\n",
        "stop_info = {}\n",
        "stop_info['정류장1'] = {'waiting': 8, 'getting_off': 5, 'shelter': True}\n",
        "stop_info['정류장2'] = {'waiting': 3, 'getting_off': 2, 'shelter': False}\n",
        "stop_info['정류장3'] = {'waiting': 12, 'getting_off': 8, 'shelter': True}\n",
        "stop_info['정류장4'] = {'waiting': 6, 'getting_off': 3, 'shelter': False}\n",
        "stop_info['정류장5'] = {'waiting': 15, 'getting_off': 10, 'shelter': True}\n",
        "\n",
        "print(\"정류장별 승객 현황:\")\n",
        "\n",
        "for stop in bus_stops:\n",
        "    info = stop_info[stop]\n",
        "    shelter_status = \"있음\" if info['shelter'] else \"없음\"\n",
        "    print(f\"{stop}: 대기 {info['waiting']}명, 하차 {info['getting_off']}명 (차양막 {shelter_status})\")\n",
        "\n",
        "# 우선정차 정류장 (대기승객 10명 이상)\n",
        "print(\"\\n우선정차 권장 정류장:\")\n",
        "for stop in bus_stops:\n",
        "    if stop_info[stop]['waiting'] >= 10:\n",
        "        info = stop_info[stop]\n",
        "        print(f\"{stop}: 대기승객 {info['waiting']}명\")"
      ],
      "metadata": {
        "colab": {
          "base_uri": "https://localhost:8080/"
        },
        "id": "7QCr61jI9vAR",
        "outputId": "1f35bd8f-54c3-4d6b-f539-19e2d02f16af"
      },
      "execution_count": 55,
      "outputs": [
        {
          "output_type": "stream",
          "name": "stdout",
          "text": [
            "정류장별 승객 현황:\n",
            "정류장1: 대기 8명, 하차 5명 (차양막 있음)\n",
            "정류장2: 대기 3명, 하차 2명 (차양막 없음)\n",
            "정류장3: 대기 12명, 하차 8명 (차양막 있음)\n",
            "정류장4: 대기 6명, 하차 3명 (차양막 없음)\n",
            "정류장5: 대기 15명, 하차 10명 (차양막 있음)\n",
            "\n",
            "우선정차 권장 정류장:\n",
            "정류장3: 대기승객 12명\n",
            "정류장5: 대기승객 15명\n"
          ]
        }
      ]
    },
    {
      "cell_type": "code",
      "source": [
        "bus_capacity = 40\n",
        "current_passengers = 25\n",
        "\n",
        "print(f\"\\n현재 버스 상황: {current_passengers}/{bus_capacity}명 탑승 중\")\n",
        "\n",
        "for stop in bus_stops:\n",
        "    info = stop_info[stop]\n",
        "    after_getting_off = current_passengers - info['getting_off']\n",
        "    after_boarding = after_getting_off + info['waiting']\n",
        "\n",
        "    if after_boarding > bus_capacity:\n",
        "        can_board = bus_capacity - after_getting_off\n",
        "        print(f\"{stop}: {info['waiting']}명 중 {can_board}명만 탑승 가능 (포화상태)\")\n",
        "    else:\n",
        "        print(f\"{stop}: 전원 탑승 가능\")\n",
        "\n",
        "    # 다음 정류장으로 이동\n",
        "    current_passengers = min(after_boarding, bus_capacity)\n"
      ],
      "metadata": {
        "colab": {
          "base_uri": "https://localhost:8080/"
        },
        "id": "CSnvOeWG9ljh",
        "outputId": "b4b2f6b3-d103-441d-d2b4-ac094926f072"
      },
      "execution_count": 56,
      "outputs": [
        {
          "output_type": "stream",
          "name": "stdout",
          "text": [
            "\n",
            "현재 버스 상황: 25/40명 탑승 중\n",
            "정류장1: 전원 탑승 가능\n",
            "정류장2: 전원 탑승 가능\n",
            "정류장3: 전원 탑승 가능\n",
            "정류장4: 전원 탑승 가능\n",
            "정류장5: 15명 중 14명만 탑승 가능 (포화상태)\n"
          ]
        }
      ]
    },
    {
      "cell_type": "markdown",
      "source": [],
      "metadata": {
        "id": "_tapkBYV9mSp"
      }
    },
    {
      "cell_type": "code",
      "source": [],
      "metadata": {
        "id": "kqisW_bY9mXB"
      },
      "execution_count": 56,
      "outputs": []
    }
  ]
}