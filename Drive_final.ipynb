{
  "nbformat": 4,
  "nbformat_minor": 0,
  "metadata": {
    "colab": {
      "provenance": [],
      "authorship_tag": "ABX9TyPSlM80hcAe1aG71IdQHTdh",
      "include_colab_link": true
    },
    "kernelspec": {
      "name": "python3",
      "display_name": "Python 3"
    },
    "language_info": {
      "name": "python"
    }
  },
  "cells": [
    {
      "cell_type": "markdown",
      "metadata": {
        "id": "view-in-github",
        "colab_type": "text"
      },
      "source": [
        "<a href=\"https://colab.research.google.com/github/curoled345/Markdown/blob/main/Drive_final.ipynb\" target=\"_parent\"><img src=\"https://colab.research.google.com/assets/colab-badge.svg\" alt=\"Open In Colab\"/></a>"
      ]
    },
    {
      "cell_type": "markdown",
      "source": [
        "# 0. 기본 변수값 설정"
      ],
      "metadata": {
        "id": "a32JhZQnpLCW"
      }
    },
    {
      "cell_type": "markdown",
      "source": [
        "- 장애물 변수 위치 설정"
      ],
      "metadata": {
        "id": "cUYYB8lopCFb"
      }
    },
    {
      "cell_type": "code",
      "source": [
        "obstacles = { \"wall\": {\"x\": 0, \"y\": 2},\n",
        "              \"tree\": {\"x\": 1, \"y\": 3},\n",
        "              \"rock\": {\"x\": 2, \"y\": 4} }"
      ],
      "metadata": {
        "id": "Js2ylfIipBwV"
      },
      "execution_count": 51,
      "outputs": []
    },
    {
      "cell_type": "markdown",
      "source": [
        "#1. 방향 센서의 기본값 설정 (or 센서값 초기화)"
      ],
      "metadata": {
        "id": "cr3JMtf0pDW0"
      }
    },
    {
      "cell_type": "code",
      "source": [
        "def init_sensors():\n",
        "    sensors = {\n",
        "        \"앞\": 15.0,\n",
        "        \"왼쪽\": 15.0,\n",
        "        \"오른쪽\": 15.0\n",
        "    }\n",
        "    print(\"센서 기본값 설정\")\n",
        "    return sensors\n",
        "\n",
        "init_sensors()"
      ],
      "metadata": {
        "colab": {
          "base_uri": "https://localhost:8080/"
        },
        "id": "L9Zwt5VYpDdr",
        "outputId": "a496c445-c7c0-4ea0-8fb7-e1def34307f5"
      },
      "execution_count": 52,
      "outputs": [
        {
          "output_type": "stream",
          "name": "stdout",
          "text": [
            "센서 기본값 설정\n"
          ]
        },
        {
          "output_type": "execute_result",
          "data": {
            "text/plain": [
              "{'앞': 15.0, '왼쪽': 15.0, '오른쪽': 15.0}"
            ]
          },
          "metadata": {},
          "execution_count": 52
        }
      ]
    },
    {
      "cell_type": "markdown",
      "source": [
        "#2. 앞, 왼, 오 방향의 스캔 함수"
      ],
      "metadata": {
        "id": "EW7idNSIpDiz"
      }
    },
    {
      "cell_type": "markdown",
      "source": [
        "- 앞 스캔 함수"
      ],
      "metadata": {
        "id": "-k9tdw-2paJw"
      }
    },
    {
      "cell_type": "code",
      "source": [
        "def scan_front(x, y, obstacles, sensors):\n",
        "    print(\"앞 장애물 스캔 시작\")\n",
        "\n",
        "    if (x, y + 1) in obstacles:\n",
        "        print(\"1칸 앞, 장애물 발견\")\n",
        "        sensors[\"앞\"] = 1.0\n",
        "    elif (x, y + 2) in obstacles:\n",
        "        print(\"2칸 앞, 장애물 발견\")\n",
        "        sensors[\"앞\"] = 2.0\n",
        "    elif (x, y + 3) in obstacles:\n",
        "        print(\"3칸 앞, 장애물 발견\")\n",
        "        sensors[\"앞\"] = 3.0\n",
        "    else:\n",
        "        print(\"앞에 장애물 없음\")\n",
        "        sensors[\"앞\"] = 15.0\n",
        "\n",
        "    print(\"앞 스캔 완료 :\", sensors[\"앞\"])"
      ],
      "metadata": {
        "id": "cGB-YH-epDo8"
      },
      "execution_count": 53,
      "outputs": []
    },
    {
      "cell_type": "markdown",
      "source": [
        "- 왼쪽 스캔 함수"
      ],
      "metadata": {
        "id": "sx_BD6FqpDs0"
      }
    },
    {
      "cell_type": "code",
      "source": [
        "def scan_left(x, y, obstacles, sensors):\n",
        "    print(\"왼쪽 스캔 시작\")\n",
        "\n",
        "    if (x - 1, y) in obstacles:\n",
        "        print(\"1칸 왼쪽, 장애물 발견\")\n",
        "        sensors[\"왼쪽\"] = 1.0\n",
        "    elif (x-2, y) in obstacles:\n",
        "        print(\"2칸 왼쪽, 장애물 발견\")\n",
        "        sensors[\"왼쪽\"] = 2.0\n",
        "    elif (x-3, y) in obstacles:\n",
        "        print(\"3칸 왼쪽, 장애물 발견\")\n",
        "        sensors[\"왼쪽\"] = 3.0\n",
        "    else:\n",
        "        print(\"왼쪽에 장애물 없음\")\n",
        "        sensors[\"왼쪽\"] = 15.0\n",
        "\n",
        "    print(\"왼쪽 스캔 완료 :\", sensors[\"왼쪽\"])"
      ],
      "metadata": {
        "id": "3aft4ZnnpDxs"
      },
      "execution_count": 54,
      "outputs": []
    },
    {
      "cell_type": "markdown",
      "source": [
        "- 오른쪽 스캔 함수"
      ],
      "metadata": {
        "id": "WPL6nXuVpD0z"
      }
    },
    {
      "cell_type": "code",
      "source": [
        "def scan_right(x, y, obstacles, sensors):\n",
        "    print(\"오른쪽 스캔 시작\")\n",
        "\n",
        "    if (x+1, y) in obstacles:\n",
        "        print(\"1칸 오른쪽, 장애물 발견\")\n",
        "        sensors[\"오른쪽\"] = 1.0\n",
        "    elif (x+2, y) in obstacles:\n",
        "        print(\"2칸 오른쪽, 장애물 발견\")\n",
        "        sensors[\"오른쪽\"] = 2.0\n",
        "    elif (x+3, y) in obstacles:\n",
        "        print(\"3칸 오른쪽, 장애물 발견\")\n",
        "        sensors[\"오른쪽\"] = 3.0\n",
        "    else:\n",
        "        print(\"오른쪽에 장애물 없음\")\n",
        "        sensors[\"오른쪽\"] = 15.0\n",
        "\n",
        "    print(\"오른쪽 스캔 완료 :\", sensors[\"오른쪽\"])"
      ],
      "metadata": {
        "id": "WH20ujAapD48"
      },
      "execution_count": 55,
      "outputs": []
    },
    {
      "cell_type": "markdown",
      "source": [
        "#3. 센서 데이터 업데이트 함수"
      ],
      "metadata": {
        "id": "fHLMNmMWpD8L"
      }
    },
    {
      "cell_type": "code",
      "source": [
        "def update_sensor_data(position, obstacles):\n",
        "    print(\"센서 업데이트 시작\")\n",
        "\n",
        "    x = position[\"x\"]\n",
        "    y = position[\"y\"]\n",
        "\n",
        "    print(\"현위치 추출 완료\")\n",
        "    print(f\"현재 좌표 : x = {x}, y = {y}\")\n",
        "\n",
        "    sensors = init_sensors()\n",
        "    print(\"센서 초기화 완료\")\n",
        "\n",
        "    scan_front(x, y, obstacles, sensors)\n",
        "    scan_left(x, y, obstacles, sensors)\n",
        "    scan_right(x, y, obstacles, sensors)\n",
        "\n",
        "    print(\"센서 업데이트 완료\")\n",
        "    return sensors"
      ],
      "metadata": {
        "id": "4u0wB7XQpEBd"
      },
      "execution_count": 56,
      "outputs": []
    },
    {
      "cell_type": "markdown",
      "source": [
        "# 4.  장애물 감지 함수"
      ],
      "metadata": {
        "id": "S_OQKJ_5pEEz"
      }
    },
    {
      "cell_type": "code",
      "source": [
        "def detect_obstacles(sensors, safe_distance):\n",
        "  print(\"장애물 감지 시작\")\n",
        "\n",
        "  print(\"입력 센서 데이터 :\", sensors)\n",
        "  print(\"안전 거리 :\", safe_distance)\n",
        "  obstacles = []\n",
        "\n",
        "  for direction, distance in sensors. items():\n",
        "    print(f\"현재 방향 : {direction}, 거리 : {distance}\")\n",
        "\n",
        "    if distance < safe_distance:\n",
        "      print(\"장애물 감지! -> 목록 추가\")\n",
        "      obstacles. append(direction)\n",
        "    else:\n",
        "      print(\"안전 - 방해 장애물 없음\")\n",
        "\n",
        "  print(\"장애물 감지 완료\")\n",
        "  return obstacles"
      ],
      "metadata": {
        "id": "iu9NtGQypEJj"
      },
      "execution_count": 57,
      "outputs": []
    },
    {
      "cell_type": "markdown",
      "source": [
        "#5. 센서 데이터 실행"
      ],
      "metadata": {
        "id": "THZNcQaTpENE"
      }
    },
    {
      "cell_type": "code",
      "source": [
        "def decide_action(obstacles):\n",
        "  print(\"장애물 센서 감지 시작\", obstacles)\n",
        "\n",
        "  if len(obstacles) == 0:\n",
        "    action = \"직진\"\n",
        "    print(\"장애물 없음\")\n",
        "\n",
        "  elif \"앞\" in obstacles:\n",
        "    print(\"앞에 장애물\")\n",
        "    if \"왼쪽\" not in obstacles and \"오른쪽\" not in obstacles:\n",
        "      action = \"좌회전 또는 우회전\"\n",
        "      print(\"왼쪽 또는 오른쪽 안전\")\n",
        "    elif \"왼쪽\" not in obstacles:\n",
        "      action = \"좌회전\"\n",
        "      print(\"왼쪽 안전\")\n",
        "    elif \"오른쪽\" not in obstacles:\n",
        "      action = \"우회전\"\n",
        "      print(\"오른쪽 안전\")\n",
        "    else:\n",
        "      action = \"정지\"\n",
        "      print(\"모든 방향 위험\")\n",
        "\n",
        "  else:\n",
        "    action = \"주의해서 직진\"\n",
        "    print(\"앞은 안전, 옆만 위험\")\n",
        "\n",
        "  print(\"장애물 감지 완료:\", action)\n",
        "  return action"
      ],
      "metadata": {
        "id": "2UTNem7IpERU"
      },
      "execution_count": 58,
      "outputs": []
    },
    {
      "cell_type": "markdown",
      "source": [
        "# 6. 장애물 충돌 처리 함수"
      ],
      "metadata": {
        "id": "jyC7oY2Rq8su"
      }
    },
    {
      "cell_type": "code",
      "execution_count": 59,
      "metadata": {
        "id": "IKxxBQHGc8kB"
      },
      "outputs": [],
      "source": [
        "def do_collision(obstacles):\n",
        "    print(\"충돌 처리 시작\")\n",
        "\n",
        "    if len(obstacles) == 0:\n",
        "        action = \"전진\"\n",
        "        print(\"장애물 없음 → 전진\")\n",
        "\n",
        "    elif '앞' in obstacles:\n",
        "        print(\"앞에 장애물 있음 → 회피 판단\")\n",
        "\n",
        "        if '왼쪽' not in obstacles:\n",
        "            action = \"왼쪽\"\n",
        "            print(\"왼쪽 회피 선택\")\n",
        "        elif '오른쪽' not in obstacles:\n",
        "            action = \"오른쪽\"\n",
        "            print(\"오른쪽 회피 선택\")\n",
        "\n",
        "        else:\n",
        "            action = \"정지\"\n",
        "            print(\"모든 방향 차단 → 정지\")\n",
        "\n",
        "    else:\n",
        "        action = \"조심해서 전진\"\n",
        "        print(\"장애물 없음 -> 전진\")\n",
        "\n",
        "    print(\"충돌 처리 종료\")\n",
        "    return action"
      ]
    },
    {
      "cell_type": "markdown",
      "source": [
        "# 7. 메인 함수 실행과 자동차 운전 함수"
      ],
      "metadata": {
        "id": "qPsLygnbnNAJ"
      }
    },
    {
      "cell_type": "code",
      "source": [
        "class SimpleCar:\n",
        "    def __init__(self, name, x, y):\n",
        "        self.name = name\n",
        "        self.x = x\n",
        "        self.y = y\n",
        "        print(f\"차량 '{self.name}' 생성 위치: ({self.x}, {self.y})\")\n",
        "\n",
        "    def move_forward(self):\n",
        "        self.y += 1\n",
        "        print(f\"전진 : ({self.x}, {self.y})\")\n",
        "\n",
        "    def turn_left(self):\n",
        "        self.x -= 1\n",
        "        print(f\"좌회전 : ({self.x}, {self.y})\")\n",
        "\n",
        "    def turn_right(self):\n",
        "        self.x += 1\n",
        "        print(f\"우회전 : ({self.x}, {self.y})\")\n",
        "\n",
        "    def stop(self):\n",
        "        print(f\"정지 : ({self.x}, {self.y})\")\n",
        "\n",
        "    def execute_action(self, action):\n",
        "        if action == \"전진\":\n",
        "            self.move_forward()\n",
        "        elif action == \"왼쪽\":\n",
        "            self.turn_left()\n",
        "        elif action == \"오른쪽\":\n",
        "            self.turn_right()\n",
        "        elif action == \"정지\":\n",
        "            self.stop()\n",
        "        else:\n",
        "            print(\"없는 방향\")\n",
        "            self.stop()\n",
        "\n",
        "    def run_simulation(obstacles):\n",
        "      car = SimpleCar(\"AI카\", 0, 0)\n",
        "\n",
        "      for step in range(10):\n",
        "        position = {\"x\": car.x, \"y\": car.y}\n",
        "\n",
        "        sensors = update_sensor_data(position, obstacles)\n",
        "        detected = decide_action(sensors)\n",
        "        action = decide_action(detected)\n",
        "        car.execute_action(action)\n",
        "\n",
        "        if action == \"정지\":\n",
        "            print(\"조건 만족 : 시뮬레이션 종료\")\n",
        "            break"
      ],
      "metadata": {
        "id": "jiabfLT8nLYs",
        "collapsed": true
      },
      "execution_count": 60,
      "outputs": []
    },
    {
      "cell_type": "code",
      "source": [
        "if __name__ == \"__main__\":\n",
        "    print(\"메인 실행 \")\n",
        "\n",
        "    position = {\"x\": 0, \"y\": 0}\n",
        "    print(f\"차량 시작 위치 : {position}\")\n",
        "\n",
        "    obstacles = {\n",
        "        \"wall\": {\"x\": 0, \"y\": 2},\n",
        "        \"tree\": {\"x\": 1, \"y\": 3},\n",
        "        \"rock\": {\"x\": 2, \"y\": 4}\n",
        "    }\n",
        "    print(f\"장애물 리스트: {[(v['x'], v['y']) for v in obstacles.values()]}\")\n",
        "\n",
        "    run_simulation(obstacles)\n",
        "\n",
        "    print(\"프로그램 종료\")"
      ],
      "metadata": {
        "colab": {
          "base_uri": "https://localhost:8080/"
        },
        "id": "NVcoE_lLpAkQ",
        "outputId": "8c961e5e-53af-40ab-fb72-b8d49ef495cf"
      },
      "execution_count": 61,
      "outputs": [
        {
          "output_type": "stream",
          "name": "stdout",
          "text": [
            "메인 실행 \n",
            "차량 시작 위치 : {'x': 0, 'y': 0}\n",
            "장애물 리스트: [(0, 2), (1, 3), (2, 4)]\n",
            "차량 'AI카' 생성 위치: (0, 0)\n",
            "\n",
            "= Step 1 =\n",
            "센서 업데이트 시작\n",
            "현위치 추출 완료\n",
            "현재 좌표 : x = 0, y = 0\n",
            "센서 기본값 설정\n",
            "센서 초기화 완료\n",
            "앞 장애물 스캔 시작\n",
            "앞에 장애물 없음\n",
            "앞 스캔 완료 : 15.0\n",
            "왼쪽 스캔 시작\n",
            "왼쪽에 장애물 없음\n",
            "왼쪽 스캔 완료 : 15.0\n",
            "오른쪽 스캔 시작\n",
            "오른쪽에 장애물 없음\n",
            "오른쪽 스캔 완료 : 15.0\n",
            "센서 업데이트 완료\n",
            "장애물 센서 감지 시작 {'앞': 15.0, '왼쪽': 15.0, '오른쪽': 15.0}\n",
            "앞에 장애물\n",
            "모든 방향 위험\n",
            "장애물 감지 완료: 정지\n",
            "장애물 센서 감지 시작 정지\n",
            "앞은 안전, 옆만 위험\n",
            "장애물 감지 완료: 주의해서 직진\n",
            "없는 방향\n",
            "정지 : (0, 0)\n",
            "\n",
            "= Step 2 =\n",
            "센서 업데이트 시작\n",
            "현위치 추출 완료\n",
            "현재 좌표 : x = 0, y = 0\n",
            "센서 기본값 설정\n",
            "센서 초기화 완료\n",
            "앞 장애물 스캔 시작\n",
            "앞에 장애물 없음\n",
            "앞 스캔 완료 : 15.0\n",
            "왼쪽 스캔 시작\n",
            "왼쪽에 장애물 없음\n",
            "왼쪽 스캔 완료 : 15.0\n",
            "오른쪽 스캔 시작\n",
            "오른쪽에 장애물 없음\n",
            "오른쪽 스캔 완료 : 15.0\n",
            "센서 업데이트 완료\n",
            "장애물 센서 감지 시작 {'앞': 15.0, '왼쪽': 15.0, '오른쪽': 15.0}\n",
            "앞에 장애물\n",
            "모든 방향 위험\n",
            "장애물 감지 완료: 정지\n",
            "장애물 센서 감지 시작 정지\n",
            "앞은 안전, 옆만 위험\n",
            "장애물 감지 완료: 주의해서 직진\n",
            "없는 방향\n",
            "정지 : (0, 0)\n",
            "\n",
            "= Step 3 =\n",
            "센서 업데이트 시작\n",
            "현위치 추출 완료\n",
            "현재 좌표 : x = 0, y = 0\n",
            "센서 기본값 설정\n",
            "센서 초기화 완료\n",
            "앞 장애물 스캔 시작\n",
            "앞에 장애물 없음\n",
            "앞 스캔 완료 : 15.0\n",
            "왼쪽 스캔 시작\n",
            "왼쪽에 장애물 없음\n",
            "왼쪽 스캔 완료 : 15.0\n",
            "오른쪽 스캔 시작\n",
            "오른쪽에 장애물 없음\n",
            "오른쪽 스캔 완료 : 15.0\n",
            "센서 업데이트 완료\n",
            "장애물 센서 감지 시작 {'앞': 15.0, '왼쪽': 15.0, '오른쪽': 15.0}\n",
            "앞에 장애물\n",
            "모든 방향 위험\n",
            "장애물 감지 완료: 정지\n",
            "장애물 센서 감지 시작 정지\n",
            "앞은 안전, 옆만 위험\n",
            "장애물 감지 완료: 주의해서 직진\n",
            "없는 방향\n",
            "정지 : (0, 0)\n",
            "\n",
            "= Step 4 =\n",
            "센서 업데이트 시작\n",
            "현위치 추출 완료\n",
            "현재 좌표 : x = 0, y = 0\n",
            "센서 기본값 설정\n",
            "센서 초기화 완료\n",
            "앞 장애물 스캔 시작\n",
            "앞에 장애물 없음\n",
            "앞 스캔 완료 : 15.0\n",
            "왼쪽 스캔 시작\n",
            "왼쪽에 장애물 없음\n",
            "왼쪽 스캔 완료 : 15.0\n",
            "오른쪽 스캔 시작\n",
            "오른쪽에 장애물 없음\n",
            "오른쪽 스캔 완료 : 15.0\n",
            "센서 업데이트 완료\n",
            "장애물 센서 감지 시작 {'앞': 15.0, '왼쪽': 15.0, '오른쪽': 15.0}\n",
            "앞에 장애물\n",
            "모든 방향 위험\n",
            "장애물 감지 완료: 정지\n",
            "장애물 센서 감지 시작 정지\n",
            "앞은 안전, 옆만 위험\n",
            "장애물 감지 완료: 주의해서 직진\n",
            "없는 방향\n",
            "정지 : (0, 0)\n",
            "\n",
            "= Step 5 =\n",
            "센서 업데이트 시작\n",
            "현위치 추출 완료\n",
            "현재 좌표 : x = 0, y = 0\n",
            "센서 기본값 설정\n",
            "센서 초기화 완료\n",
            "앞 장애물 스캔 시작\n",
            "앞에 장애물 없음\n",
            "앞 스캔 완료 : 15.0\n",
            "왼쪽 스캔 시작\n",
            "왼쪽에 장애물 없음\n",
            "왼쪽 스캔 완료 : 15.0\n",
            "오른쪽 스캔 시작\n",
            "오른쪽에 장애물 없음\n",
            "오른쪽 스캔 완료 : 15.0\n",
            "센서 업데이트 완료\n",
            "장애물 센서 감지 시작 {'앞': 15.0, '왼쪽': 15.0, '오른쪽': 15.0}\n",
            "앞에 장애물\n",
            "모든 방향 위험\n",
            "장애물 감지 완료: 정지\n",
            "장애물 센서 감지 시작 정지\n",
            "앞은 안전, 옆만 위험\n",
            "장애물 감지 완료: 주의해서 직진\n",
            "없는 방향\n",
            "정지 : (0, 0)\n",
            "\n",
            "= Step 6 =\n",
            "센서 업데이트 시작\n",
            "현위치 추출 완료\n",
            "현재 좌표 : x = 0, y = 0\n",
            "센서 기본값 설정\n",
            "센서 초기화 완료\n",
            "앞 장애물 스캔 시작\n",
            "앞에 장애물 없음\n",
            "앞 스캔 완료 : 15.0\n",
            "왼쪽 스캔 시작\n",
            "왼쪽에 장애물 없음\n",
            "왼쪽 스캔 완료 : 15.0\n",
            "오른쪽 스캔 시작\n",
            "오른쪽에 장애물 없음\n",
            "오른쪽 스캔 완료 : 15.0\n",
            "센서 업데이트 완료\n",
            "장애물 센서 감지 시작 {'앞': 15.0, '왼쪽': 15.0, '오른쪽': 15.0}\n",
            "앞에 장애물\n",
            "모든 방향 위험\n",
            "장애물 감지 완료: 정지\n",
            "장애물 센서 감지 시작 정지\n",
            "앞은 안전, 옆만 위험\n",
            "장애물 감지 완료: 주의해서 직진\n",
            "없는 방향\n",
            "정지 : (0, 0)\n",
            "\n",
            "= Step 7 =\n",
            "센서 업데이트 시작\n",
            "현위치 추출 완료\n",
            "현재 좌표 : x = 0, y = 0\n",
            "센서 기본값 설정\n",
            "센서 초기화 완료\n",
            "앞 장애물 스캔 시작\n",
            "앞에 장애물 없음\n",
            "앞 스캔 완료 : 15.0\n",
            "왼쪽 스캔 시작\n",
            "왼쪽에 장애물 없음\n",
            "왼쪽 스캔 완료 : 15.0\n",
            "오른쪽 스캔 시작\n",
            "오른쪽에 장애물 없음\n",
            "오른쪽 스캔 완료 : 15.0\n",
            "센서 업데이트 완료\n",
            "장애물 센서 감지 시작 {'앞': 15.0, '왼쪽': 15.0, '오른쪽': 15.0}\n",
            "앞에 장애물\n",
            "모든 방향 위험\n",
            "장애물 감지 완료: 정지\n",
            "장애물 센서 감지 시작 정지\n",
            "앞은 안전, 옆만 위험\n",
            "장애물 감지 완료: 주의해서 직진\n",
            "없는 방향\n",
            "정지 : (0, 0)\n",
            "\n",
            "= Step 8 =\n",
            "센서 업데이트 시작\n",
            "현위치 추출 완료\n",
            "현재 좌표 : x = 0, y = 0\n",
            "센서 기본값 설정\n",
            "센서 초기화 완료\n",
            "앞 장애물 스캔 시작\n",
            "앞에 장애물 없음\n",
            "앞 스캔 완료 : 15.0\n",
            "왼쪽 스캔 시작\n",
            "왼쪽에 장애물 없음\n",
            "왼쪽 스캔 완료 : 15.0\n",
            "오른쪽 스캔 시작\n",
            "오른쪽에 장애물 없음\n",
            "오른쪽 스캔 완료 : 15.0\n",
            "센서 업데이트 완료\n",
            "장애물 센서 감지 시작 {'앞': 15.0, '왼쪽': 15.0, '오른쪽': 15.0}\n",
            "앞에 장애물\n",
            "모든 방향 위험\n",
            "장애물 감지 완료: 정지\n",
            "장애물 센서 감지 시작 정지\n",
            "앞은 안전, 옆만 위험\n",
            "장애물 감지 완료: 주의해서 직진\n",
            "없는 방향\n",
            "정지 : (0, 0)\n",
            "\n",
            "= Step 9 =\n",
            "센서 업데이트 시작\n",
            "현위치 추출 완료\n",
            "현재 좌표 : x = 0, y = 0\n",
            "센서 기본값 설정\n",
            "센서 초기화 완료\n",
            "앞 장애물 스캔 시작\n",
            "앞에 장애물 없음\n",
            "앞 스캔 완료 : 15.0\n",
            "왼쪽 스캔 시작\n",
            "왼쪽에 장애물 없음\n",
            "왼쪽 스캔 완료 : 15.0\n",
            "오른쪽 스캔 시작\n",
            "오른쪽에 장애물 없음\n",
            "오른쪽 스캔 완료 : 15.0\n",
            "센서 업데이트 완료\n",
            "장애물 센서 감지 시작 {'앞': 15.0, '왼쪽': 15.0, '오른쪽': 15.0}\n",
            "앞에 장애물\n",
            "모든 방향 위험\n",
            "장애물 감지 완료: 정지\n",
            "장애물 센서 감지 시작 정지\n",
            "앞은 안전, 옆만 위험\n",
            "장애물 감지 완료: 주의해서 직진\n",
            "없는 방향\n",
            "정지 : (0, 0)\n",
            "\n",
            "= Step 10 =\n",
            "센서 업데이트 시작\n",
            "현위치 추출 완료\n",
            "현재 좌표 : x = 0, y = 0\n",
            "센서 기본값 설정\n",
            "센서 초기화 완료\n",
            "앞 장애물 스캔 시작\n",
            "앞에 장애물 없음\n",
            "앞 스캔 완료 : 15.0\n",
            "왼쪽 스캔 시작\n",
            "왼쪽에 장애물 없음\n",
            "왼쪽 스캔 완료 : 15.0\n",
            "오른쪽 스캔 시작\n",
            "오른쪽에 장애물 없음\n",
            "오른쪽 스캔 완료 : 15.0\n",
            "센서 업데이트 완료\n",
            "장애물 센서 감지 시작 {'앞': 15.0, '왼쪽': 15.0, '오른쪽': 15.0}\n",
            "앞에 장애물\n",
            "모든 방향 위험\n",
            "장애물 감지 완료: 정지\n",
            "장애물 센서 감지 시작 정지\n",
            "앞은 안전, 옆만 위험\n",
            "장애물 감지 완료: 주의해서 직진\n",
            "없는 방향\n",
            "정지 : (0, 0)\n",
            "프로그램 종료\n"
          ]
        }
      ]
    }
  ]
}