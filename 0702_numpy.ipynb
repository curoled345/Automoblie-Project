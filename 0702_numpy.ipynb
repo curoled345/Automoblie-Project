{
  "nbformat": 4,
  "nbformat_minor": 0,
  "metadata": {
    "colab": {
      "provenance": [],
      "authorship_tag": "ABX9TyMy2kHPW4SM5WY19hjmwCsF",
      "include_colab_link": true
    },
    "kernelspec": {
      "name": "python3",
      "display_name": "Python 3"
    },
    "language_info": {
      "name": "python"
    }
  },
  "cells": [
    {
      "cell_type": "markdown",
      "metadata": {
        "id": "view-in-github",
        "colab_type": "text"
      },
      "source": [
        "<a href=\"https://colab.research.google.com/github/curoled345/Markdown/blob/main/0702_numpy.ipynb\" target=\"_parent\"><img src=\"https://colab.research.google.com/assets/colab-badge.svg\" alt=\"Open In Colab\"/></a>"
      ]
    },
    {
      "cell_type": "markdown",
      "source": [
        "- Numpy 임포트 코드"
      ],
      "metadata": {
        "id": "XdFe38hP_OtJ"
      }
    },
    {
      "cell_type": "code",
      "source": [
        "import numpy as np"
      ],
      "metadata": {
        "id": "fXFKv2OR_O21"
      },
      "execution_count": 3,
      "outputs": []
    },
    {
      "cell_type": "markdown",
      "source": [
        "- NumPy 배열 만들기\n",
        "Python의 리스트를 기반으로 배열 생성"
      ],
      "metadata": {
        "id": "aL-0EEnc-5bV"
      }
    },
    {
      "cell_type": "code",
      "execution_count": 4,
      "metadata": {
        "colab": {
          "base_uri": "https://localhost:8080/"
        },
        "id": "m83bP1Yy4IY9",
        "outputId": "c634a937-d557-4658-d67b-9476ac001791"
      },
      "outputs": [
        {
          "output_type": "stream",
          "name": "stdout",
          "text": [
            "1차원 배열: [1 2 3 4]\n",
            "2차원 배열:\n",
            " [[1 2]\n",
            " [3 4]]\n"
          ]
        }
      ],
      "source": [
        "# Python의 리스트를 기반으로 배열 생성\n",
        "arr1 = np.array([1, 2, 3, 4])\n",
        "arr2 = np.array([[1, 2], [3, 4]])\n",
        "\n",
        "print(\"1차원 배열:\", arr1)\n",
        "print(\"2차원 배열:\\n\", arr2)"
      ]
    },
    {
      "cell_type": "code",
      "source": [
        "# 배열의 차원 (ndim)\n",
        "print(\"arr1 차원:\", arr1.ndim)\n",
        "print(\"arr2 차원:\", arr2.ndim)\n",
        "\n",
        "# 배열의 구조\n",
        "print(\"arr2 shape:\", arr2.shape)"
      ],
      "metadata": {
        "colab": {
          "base_uri": "https://localhost:8080/"
        },
        "id": "1y_rMZzl-3Gr",
        "outputId": "6971136f-496f-4ced-9238-95fcb3678dfc"
      },
      "execution_count": 5,
      "outputs": [
        {
          "output_type": "stream",
          "name": "stdout",
          "text": [
            "arr1 차원: 1\n",
            "arr2 차원: 2\n",
            "arr2 shape: (2, 2)\n"
          ]
        }
      ]
    },
    {
      "cell_type": "markdown",
      "source": [
        "- 배열 인덱싱 & 슬라이싱"
      ],
      "metadata": {
        "id": "Y_FgT5J7-6eJ"
      }
    },
    {
      "cell_type": "code",
      "source": [
        "print(\"arr1 첫 번째 원소:\", arr1[0])\n",
        "print(\"arr2 두 번째 행 첫 번째 원소:\", arr2[1, 0])\n",
        "\n",
        "# 슬라이싱\n",
        "print(\"arr1 슬라이싱 [1:3]:\", arr1[1:3])"
      ],
      "metadata": {
        "colab": {
          "base_uri": "https://localhost:8080/"
        },
        "id": "cOAUbS_2-6kh",
        "outputId": "ae3df0a4-8118-45cd-fd48-53af6f54e2b1"
      },
      "execution_count": 7,
      "outputs": [
        {
          "output_type": "stream",
          "name": "stdout",
          "text": [
            "arr1 첫 번째 원소: 1\n",
            "arr2 두 번째 행 첫 번째 원소: 3\n",
            "arr1 슬라이싱 [1:3]: [2 3]\n"
          ]
        }
      ]
    },
    {
      "cell_type": "markdown",
      "source": [
        "- 배열 연산 (벡터화)"
      ],
      "metadata": {
        "id": "0Qdg3-zl-6tJ"
      }
    },
    {
      "cell_type": "code",
      "source": [
        "# 배열에 연산을 일괄 적용하는 벡터화 지원\n",
        "a = np.array([10, 20, 30])\n",
        "b = np.array([1, 2, 3])\n",
        "\n",
        "print(\"a + b:\", a + b)\n",
        "print(\"a * 2:\", a * 2)\n",
        "print(\"a ** 2 (제곱):\", a ** 2)"
      ],
      "metadata": {
        "colab": {
          "base_uri": "https://localhost:8080/"
        },
        "id": "YKYAWIHr-6xA",
        "outputId": "1b3118c6-e8c4-4394-8e33-98b58752c689"
      },
      "execution_count": 8,
      "outputs": [
        {
          "output_type": "stream",
          "name": "stdout",
          "text": [
            "a + b: [11 22 33]\n",
            "a * 2: [20 40 60]\n",
            "a ** 2 (제곱): [100 400 900]\n"
          ]
        }
      ]
    },
    {
      "cell_type": "markdown",
      "source": [
        "- 배열 함수 (sum, mean, max 등)"
      ],
      "metadata": {
        "id": "YLfh0gzr-60J"
      }
    },
    {
      "cell_type": "code",
      "source": [
        "print(\"합계:\", np.sum(a))\n",
        "print(\"평균:\", np.mean(a))\n",
        "print(\"최댓값:\", np.max(a))"
      ],
      "metadata": {
        "colab": {
          "base_uri": "https://localhost:8080/"
        },
        "id": "s14TVCuZ-64I",
        "outputId": "7c1b4ef6-9b6d-4ec4-d3c3-8be2bd7c6eac"
      },
      "execution_count": 9,
      "outputs": [
        {
          "output_type": "stream",
          "name": "stdout",
          "text": [
            "합계: 60\n",
            "평균: 20.0\n",
            "최댓값: 30\n"
          ]
        }
      ]
    },
    {
      "cell_type": "markdown",
      "source": [
        "- 배열 생성 함수"
      ],
      "metadata": {
        "id": "vWshMuSF-67R"
      }
    },
    {
      "cell_type": "code",
      "source": [
        "zeros = np.zeros((2, 3))  # 0으로 채운 2x3 배열\n",
        "ones = np.ones((2, 2))    # 1로 채운 2x2 배열\n",
        "rand = np.random.rand(2, 2)  # 0~1 난수\n",
        "\n",
        "print(\"0으로 채운 배열 :\\n\", zeros)\n",
        "print(\"1로 채운 배열 :\\n\", ones)\n",
        "print(\"랜덤 배열 :\\n\", rand)"
      ],
      "metadata": {
        "colab": {
          "base_uri": "https://localhost:8080/"
        },
        "id": "WBfILpsF-6-1",
        "outputId": "39f9168c-1d32-435c-bc35-d7fc59a1b0f7"
      },
      "execution_count": 10,
      "outputs": [
        {
          "output_type": "stream",
          "name": "stdout",
          "text": [
            "0으로 채운 배열:\n",
            " [[0. 0. 0.]\n",
            " [0. 0. 0.]]\n",
            "1로 채운 배열:\n",
            " [[1. 1.]\n",
            " [1. 1.]]\n",
            "랜덤 배열:\n",
            " [[0.02266721 0.10125107]\n",
            " [0.23697708 0.48859787]]\n"
          ]
        }
      ]
    },
    {
      "cell_type": "markdown",
      "source": [
        "- 배열 재구성 (reshape)"
      ],
      "metadata": {
        "id": "JaClu5G6-7IA"
      }
    },
    {
      "cell_type": "code",
      "source": [
        "arr = np.array([1, 2, 3, 4, 5, 6])\n",
        "reshaped = arr.reshape(2, 3)\n",
        "\n",
        "print(\"원본 배열 :\", arr)\n",
        "print(\"재구성한 배열 :\\n\", reshaped)"
      ],
      "metadata": {
        "colab": {
          "base_uri": "https://localhost:8080/"
        },
        "id": "6u7yOKzB-7PQ",
        "outputId": "79a1d629-d3b2-491a-8441-82fb6021b33f"
      },
      "execution_count": 11,
      "outputs": [
        {
          "output_type": "stream",
          "name": "stdout",
          "text": [
            "원본 배열: [1 2 3 4 5 6]\n",
            "재구성한 배열:\n",
            " [[1 2 3]\n",
            " [4 5 6]]\n"
          ]
        }
      ]
    },
    {
      "cell_type": "markdown",
      "source": [
        "- 배열 병합 및 분할"
      ],
      "metadata": {
        "id": "YRbCvAYH-7T5"
      }
    },
    {
      "cell_type": "code",
      "source": [
        "arr1 = np.array([1, 2, 3])\n",
        "arr2 = np.array([4, 5, 6])\n",
        "\n",
        "# 수평 병합\n",
        "merged = np.concatenate((arr1, arr2))\n",
        "print(\"병합된 배열 :\", merged)\n",
        "\n",
        "# 수직 병합\n",
        "vstacked = np.vstack((arr1, arr2))\n",
        "print(\"수직 병합 :\\n\", vstacked)"
      ],
      "metadata": {
        "colab": {
          "base_uri": "https://localhost:8080/"
        },
        "id": "d_-gBzpp-7el",
        "outputId": "07e6c68e-6039-42de-9bf9-7bcf136f3666"
      },
      "execution_count": 12,
      "outputs": [
        {
          "output_type": "stream",
          "name": "stdout",
          "text": [
            "병합된 배열: [1 2 3 4 5 6]\n",
            "수직 병합:\n",
            " [[1 2 3]\n",
            " [4 5 6]]\n"
          ]
        }
      ]
    },
    {
      "cell_type": "markdown",
      "source": [
        "- 브로드캐스팅"
      ],
      "metadata": {
        "id": "OYlzkmpJ-7hq"
      }
    },
    {
      "cell_type": "code",
      "source": [
        "# 크기가 다른 배열끼리 연산이 자동 적용\n",
        "matrix = np.array([[1, 2, 3], [4, 5, 6]])\n",
        "vector = np.array([10, 20, 30])\n",
        "\n",
        "print(\"브로드캐스팅 결과:\\n\", matrix + vector)"
      ],
      "metadata": {
        "colab": {
          "base_uri": "https://localhost:8080/"
        },
        "id": "qWHfSLNp-7lS",
        "outputId": "b91ace26-eb69-4f11-ed02-2f3e44869812"
      },
      "execution_count": 14,
      "outputs": [
        {
          "output_type": "stream",
          "name": "stdout",
          "text": [
            "브로드캐스팅 결과:\n",
            " [[11 22 33]\n",
            " [14 25 36]]\n"
          ]
        }
      ]
    },
    {
      "cell_type": "markdown",
      "source": [
        "- 조건 필터링 (Boolean Indexing)"
      ],
      "metadata": {
        "id": "cKYuqwOS-7nw"
      }
    },
    {
      "cell_type": "code",
      "source": [
        "arr = np.array([10, 15, 20, 25, 30])\n",
        "\n",
        "# 20보다 큰 값만 추출\n",
        "filtered = arr[arr > 20]\n",
        "print(\"20보다 큰 원소:\", filtered)\n",
        "\n",
        "# 조건에 따라 변경도 가능\n",
        "arr[arr > 20] = 99\n",
        "print(\"20보다 큰 원소를 99로 변경:\", arr)"
      ],
      "metadata": {
        "colab": {
          "base_uri": "https://localhost:8080/"
        },
        "id": "eicvad0e-7rK",
        "outputId": "18967488-3792-4ff7-a702-0455dd474d6b"
      },
      "execution_count": 15,
      "outputs": [
        {
          "output_type": "stream",
          "name": "stdout",
          "text": [
            "20보다 큰 원소: [25 30]\n",
            "20보다 큰 원소를 99로 변경: [10 15 20 99 99]\n"
          ]
        }
      ]
    },
    {
      "cell_type": "markdown",
      "source": [
        "11. 난수 관련 함수"
      ],
      "metadata": {
        "id": "FJUT01HL-7tq"
      }
    },
    {
      "cell_type": "code",
      "source": [
        "# 정수형 (0~9 사이, 5개)\n",
        "randint_arr = np.random.randint(0, 10, size=5)\n",
        "print(\"정수형 배열:\", randint_arr)\n",
        "\n",
        "# 시드 고정 (재현 가능성 보장)\n",
        "np.random.seed(42)\n",
        "print(\"시드 고정된 난수:\", np.random.rand(3))"
      ],
      "metadata": {
        "colab": {
          "base_uri": "https://localhost:8080/"
        },
        "id": "k6cAKn05-7w1",
        "outputId": "2de04961-2309-4bd2-a589-11e0f9501393"
      },
      "execution_count": 19,
      "outputs": [
        {
          "output_type": "stream",
          "name": "stdout",
          "text": [
            "정수형 배열: [4 6 9 2 6]\n",
            "시드 고정된 난수: [0.37454012 0.95071431 0.73199394]\n"
          ]
        }
      ]
    }
  ]
}