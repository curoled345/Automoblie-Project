{
  "nbformat": 4,
  "nbformat_minor": 0,
  "metadata": {
    "colab": {
      "provenance": [],
      "authorship_tag": "ABX9TyMTCbnOUMpHS+srrbRRTbw/",
      "include_colab_link": true
    },
    "kernelspec": {
      "name": "python3",
      "display_name": "Python 3"
    },
    "language_info": {
      "name": "python"
    }
  },
  "cells": [
    {
      "cell_type": "markdown",
      "metadata": {
        "id": "view-in-github",
        "colab_type": "text"
      },
      "source": [
        "<a href=\"https://colab.research.google.com/github/curoled345/Automoblie-Project/blob/main/0709_OpencCV_MOG2_%EC%B0%A8%EB%9F%89%EA%B0%90%EC%A7%80.ipynb\" target=\"_parent\"><img src=\"https://colab.research.google.com/assets/colab-badge.svg\" alt=\"Open In Colab\"/></a>"
      ]
    },
    {
      "cell_type": "markdown",
      "source": [
        "# 1. 기본 MOG2 차량 감지 코드"
      ],
      "metadata": {
        "id": "zrnB8iCxm3ui"
      }
    },
    {
      "cell_type": "code",
      "execution_count": null,
      "metadata": {
        "id": "DTVjM1D0mccw"
      },
      "outputs": [],
      "source": [
        "import cv2\n",
        "import numpy as np\n",
        "from google.colab.patches import cv2_imshow\n",
        "import matplotlib.pyplot as plt\n",
        "\n",
        "\n",
        "# 동영상 파일 열기 (코랩에서는 업로드한 파일 경로 사용)\n",
        "cap = cv2.VideoCapture('/content/sample_data/around5.mp4')  # 파일 경로 수정 필요\n",
        "\n",
        "\n",
        "# MOG2 배경 차분기 생성\n",
        "backSub = cv2.createBackgroundSubtractorMOG2()\n",
        "\n",
        "\n",
        "frame_count = 0\n",
        "while True:\n",
        "    ret, frame = cap.read()\n",
        "    if not ret:\n",
        "        break\n",
        "\n",
        "    # 배경 차분 적용\n",
        "    fgMask = backSub.apply(frame)\n",
        "\n",
        "    # 매 30프레임마다 결과 출력 (너무 많은 출력 방지)\n",
        "    if frame_count % 30 == 0:   # 30초마다 1프레임\n",
        "        # 결과를 나란히 표시\n",
        "        combined = np.hstack((frame, cv2.cvtColor(fgMask, cv2.COLOR_GRAY2BGR)))\n",
        "        cv2_imshow(combined)\n",
        "\n",
        "    frame_count += 1\n",
        "\n",
        "    # 100프레임 정도만 처리 (테스트용)\n",
        "    if frame_count > 100:\n",
        "        break\n",
        "\n",
        "\n",
        "# 자원 해제\n",
        "cap.release()\n",
        "print(\"처리 완료!\")"
      ]
    },
    {
      "cell_type": "markdown",
      "source": [
        "\n",
        "# + 노이즈 제거 (모폴로지 연산)"
      ],
      "metadata": {
        "id": "ZMXeuNXKm-gU"
      }
    },
    {
      "cell_type": "code",
      "source": [
        "import cv2\n",
        "import numpy as np\n",
        "from google.colab.patches import cv2_imshow\n",
        "import matplotlib.pyplot as plt\n",
        "\n",
        "\n",
        "# 동영상 파일 열기 (코랩에서는 업로드한 파일 경로 사용)\n",
        "cap = cv2.VideoCapture('/content/sample_data/around5.mp4')  # 파일 경로 수정 필요\n",
        "\n",
        "\n",
        "# MOG2 배경 차분기 생성\n",
        "backSub = cv2.createBackgroundSubtractorMOG2()\n",
        "\n",
        "\n",
        "frame_count = 0\n",
        "while True:\n",
        "    ret, frame = cap.read()\n",
        "    if not ret:\n",
        "        break\n",
        "\n",
        "    # 배경 차분 적용\n",
        "    fgMask = backSub.apply(frame)\n",
        "\n",
        "    kernel = cv2.getStructuringElement(cv2.MORPH_ELLIPSE, (3, 3))\n",
        "    fgMask = cv2.morphologyEx(fgMask, cv2.MORPH_OPEN, kernel)  # 작은 노이즈 제거\n",
        "    fgMask = cv2.morphologyEx(fgMask, cv2.MORPH_CLOSE, kernel)  # 구멍 메우기\n",
        "\n",
        "\n",
        "    # 매 30프레임마다 결과 출력 (너무 많은 출력 방지)\n",
        "    if frame_count % 30 == 0:   # 30초마다 1프레임\n",
        "        # 결과를 나란히 표시\n",
        "        combined = np.hstack((frame, cv2.cvtColor(fgMask, cv2.COLOR_GRAY2BGR)))\n",
        "        cv2_imshow(combined)\n",
        "\n",
        "    frame_count += 1\n",
        "\n",
        "    # 100프레임 정도만 처리 (테스트용)\n",
        "    if frame_count > 100:\n",
        "        break\n",
        "\n",
        "\n",
        "# 자원 해제\n",
        "cap.release()\n",
        "print(\"처리 완료!\")"
      ],
      "metadata": {
        "id": "OXNltkagm-zA"
      },
      "execution_count": null,
      "outputs": []
    },
    {
      "cell_type": "markdown",
      "source": [
        "# + 윤곽선 검출 및 바운딩 박스"
      ],
      "metadata": {
        "id": "G1nFvLFioZt_"
      }
    },
    {
      "cell_type": "code",
      "source": [
        "import cv2\n",
        "import numpy as np\n",
        "from google.colab.patches import cv2_imshow\n",
        "import matplotlib.pyplot as plt\n",
        "\n",
        "\n",
        "# 동영상 파일 열기 (코랩에서는 업로드한 파일 경로 사용)\n",
        "cap = cv2.VideoCapture('/content/sample_data/around5.mp4')  # 파일 경로 수정 필요\n",
        "\n",
        "\n",
        "# MOG2 배경 차분기 생성\n",
        "backSub = cv2.createBackgroundSubtractorMOG2()\n",
        "\n",
        "\n",
        "frame_count = 0\n",
        "while True:\n",
        "    ret, frame = cap.read()\n",
        "    if not ret:\n",
        "        break\n",
        "\n",
        "    # 배경 차분 적용\n",
        "    fgMask = backSub.apply(frame)\n",
        "\n",
        "    kernel = cv2.getStructuringElement(cv2.MORPH_ELLIPSE, (3, 3))\n",
        "    fgMask = cv2.morphologyEx(fgMask, cv2.MORPH_OPEN, kernel)  # 작은 노이즈 제거\n",
        "    fgMask = cv2.morphologyEx(fgMask, cv2.MORPH_CLOSE, kernel)  # 구멍 메우기\n",
        "\n",
        "    contours, _ = cv2.findContours(fgMask, cv2.RETR_EXTERNAL, cv2.CHAIN_APPROX_SIMPLE)\n",
        "\n",
        "    # 바운딩 박스를 그릴 프레임 복사\n",
        "    result_frame = frame.copy()\n",
        "\n",
        "    for contour in contours:\n",
        "        # 너무 작은 영역은 제외 (차량이 아닐 가능성 높음)\n",
        "        if cv2.contourArea(contour) > 3000:\n",
        "            x, y, w, h = cv2.boundingRect(contour)\n",
        "            cv2.rectangle(result_frame, (x, y), (x + w, y + h), (0, 255, 0), 2)\n",
        "\n",
        "\n",
        "\n",
        "    # 매 30프레임마다 결과 출력 (너무 많은 출력 방지)\n",
        "    if frame_count % 30 == 0:   # 30초마다 1프레임\n",
        "        # 결과를 나란히 표시\n",
        "        combined = np.hstack((frame, cv2.cvtColor(fgMask, cv2.COLOR_GRAY2BGR)))\n",
        "        cv2_imshow(combined)\n",
        "\n",
        "    frame_count += 1\n",
        "\n",
        "    # 100프레임 정도만 처리 (테스트용)\n",
        "    if frame_count > 100:\n",
        "        break\n",
        "\n",
        "\n",
        "# 자원 해제\n",
        "cap.release()\n",
        "print(\"처리 완료!\")"
      ],
      "metadata": {
        "collapsed": true,
        "id": "39qiy1wgoWf2"
      },
      "execution_count": null,
      "outputs": []
    },
    {
      "cell_type": "markdown",
      "source": [
        "# - 최종본"
      ],
      "metadata": {
        "id": "EV4bDgZszPSi"
      }
    },
    {
      "cell_type": "code",
      "source": [
        "import cv2\n",
        "import numpy as np\n",
        "from google.colab.patches import cv2_imshow\n",
        "\n",
        "# 동영상 파일 열기\n",
        "cap = cv2.VideoCapture('/content/sample_data/around5.mp4')\n",
        "\n",
        "# ROI 생성 함수\n",
        "def create_lane_roi(frame):\n",
        "    height, width = frame.shape[:2]\n",
        "    mask = np.zeros((height, width), dtype=np.uint8)\n",
        "\n",
        "    # ▶ 오른쪽으로 조금 더 이동하고 밑변을 오른쪽으로 넓히고 왼쪽 밑변을 줄이고 왼쪽 윗변을 줄인 사다리꼴 ROI\n",
        "    # 모든 x 좌표에 오프셋 추가하여 오른쪽으로 이동\n",
        "    offset_x = int(width * 0.01) # 오른쪽으로 이동할 픽셀 수 (대략 1cm에 해당하도록 조정)\n",
        "\n",
        "    roi_points = np.array([\n",
        "        [int(width * 0.2) + offset_x, height],             # 왼쪽 아래\n",
        "        [int(width * 0.45) + offset_x, int(height * 0.6)],  # 왼쪽 위\n",
        "        [int(width * 0.62) + offset_x, int(height * 0.6)],  # 오른쪽 위\n",
        "        [int(width * 0.95) + offset_x, height]              # 오른쪽 아래\n",
        "    ], np.int32)\n",
        "\n",
        "    cv2.fillPoly(mask, [roi_points], 255)\n",
        "    return mask, roi_points\n",
        "\n",
        "frame_count = 0\n",
        "while True:\n",
        "    ret, frame = cap.read()\n",
        "    if not ret:\n",
        "        break\n",
        "\n",
        "    gray = cv2.cvtColor(frame, cv2.COLOR_BGR2GRAY)\n",
        "    blur = cv2.GaussianBlur(gray, (5, 5), 0)\n",
        "    edges = cv2.Canny(blur, 50, 150)\n",
        "\n",
        "    roi_mask, roi_points = create_lane_roi(frame)\n",
        "    masked_edges = cv2.bitwise_and(edges, roi_mask)\n",
        "\n",
        "    result_frame = frame.copy()\n",
        "    cv2.polylines(result_frame, [roi_points], isClosed=True, color=(0, 255, 0), thickness=2)\n",
        "\n",
        "    if frame_count % 10 == 0:\n",
        "        combined = np.hstack((\n",
        "            result_frame,\n",
        "            cv2.cvtColor(masked_edges, cv2.COLOR_GRAY2BGR)\n",
        "        ))\n",
        "        cv2_imshow(combined)\n",
        "\n",
        "    frame_count += 1\n",
        "    if frame_count > 100:\n",
        "        break\n",
        "\n",
        "cap.release()\n",
        "print(\"차선 검출 처리 완료!\")"
      ],
      "metadata": {
        "id": "Ic4Pi4Bu9Ta-"
      },
      "execution_count": null,
      "outputs": []
    }
  ]
}