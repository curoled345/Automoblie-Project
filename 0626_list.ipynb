{
  "nbformat": 4,
  "nbformat_minor": 0,
  "metadata": {
    "colab": {
      "provenance": [],
      "authorship_tag": "ABX9TyMJFOP3tMDOwmdyxk8U7oZd",
      "include_colab_link": true
    },
    "kernelspec": {
      "name": "python3",
      "display_name": "Python 3"
    },
    "language_info": {
      "name": "python"
    }
  },
  "cells": [
    {
      "cell_type": "markdown",
      "metadata": {
        "id": "view-in-github",
        "colab_type": "text"
      },
      "source": [
        "<a href=\"https://colab.research.google.com/github/curoled345/Markdown/blob/main/0626_list.ipynb\" target=\"_parent\"><img src=\"https://colab.research.google.com/assets/colab-badge.svg\" alt=\"Open In Colab\"/></a>"
      ]
    },
    {
      "cell_type": "markdown",
      "source": [
        "1. 리스트 생성"
      ],
      "metadata": {
        "id": "BkHjPZuC_skU"
      }
    },
    {
      "cell_type": "code",
      "source": [
        "my_list = [\"apple\", \"banana\", \"cherry\"]\n",
        "print(my_list)"
      ],
      "metadata": {
        "colab": {
          "base_uri": "https://localhost:8080/"
        },
        "id": "wT4pUSWN9KAK",
        "outputId": "105309c4-9a49-4bed-a54c-9d5ffe8985e4"
      },
      "execution_count": 12,
      "outputs": [
        {
          "output_type": "stream",
          "name": "stdout",
          "text": [
            "['apple', 'banana', 'cherry']\n"
          ]
        }
      ]
    },
    {
      "cell_type": "markdown",
      "source": [
        "\n",
        "2. 리스트 인덱싱\n"
      ],
      "metadata": {
        "id": "mn3LjlhV_x38"
      }
    },
    {
      "cell_type": "code",
      "source": [
        "print(my_list[1])"
      ],
      "metadata": {
        "colab": {
          "base_uri": "https://localhost:8080/"
        },
        "id": "1CuQwO4C9Kt3",
        "outputId": "721862d9-40a7-4ed7-f044-b168a112a5c8"
      },
      "execution_count": 13,
      "outputs": [
        {
          "output_type": "stream",
          "name": "stdout",
          "text": [
            "banana\n"
          ]
        }
      ]
    },
    {
      "cell_type": "markdown",
      "source": [
        " 3. 리스트 값 변경"
      ],
      "metadata": {
        "id": "Dq1XmwVG_20c"
      }
    },
    {
      "cell_type": "code",
      "source": [
        "my_list[1] = \"orange\"\n",
        "print(my_list)"
      ],
      "metadata": {
        "colab": {
          "base_uri": "https://localhost:8080/"
        },
        "id": "_O2LJW7q_6iL",
        "outputId": "4077e19b-5394-4242-e527-982e75f256b6"
      },
      "execution_count": 14,
      "outputs": [
        {
          "output_type": "stream",
          "name": "stdout",
          "text": [
            "['apple', 'orange', 'cherry']\n"
          ]
        }
      ]
    },
    {
      "cell_type": "markdown",
      "source": [
        "4. 리스트 길이 확인"
      ],
      "metadata": {
        "id": "Pplb0s4g_8Js"
      }
    },
    {
      "cell_type": "code",
      "source": [
        "print(len(my_list))"
      ],
      "metadata": {
        "colab": {
          "base_uri": "https://localhost:8080/"
        },
        "id": "yfX5ch6v9Kyf",
        "outputId": "3373762b-69e0-47a8-8320-dea1b07b9cd5"
      },
      "execution_count": 15,
      "outputs": [
        {
          "output_type": "stream",
          "name": "stdout",
          "text": [
            "3\n"
          ]
        }
      ]
    },
    {
      "cell_type": "markdown",
      "source": [
        "5. 리스트 반복 (for문 사용)"
      ],
      "metadata": {
        "id": "z5WtS3-iAM5A"
      }
    },
    {
      "cell_type": "code",
      "source": [
        "for fruit in my_list:\n",
        "    print(fruit)"
      ],
      "metadata": {
        "colab": {
          "base_uri": "https://localhost:8080/"
        },
        "id": "J3clf_lbAJt4",
        "outputId": "58b638a2-d083-46e2-a7be-a6e737561336"
      },
      "execution_count": 16,
      "outputs": [
        {
          "output_type": "stream",
          "name": "stdout",
          "text": [
            "apple\n",
            "orange\n",
            "cherry\n"
          ]
        }
      ]
    },
    {
      "cell_type": "markdown",
      "source": [
        "6. 리스트에 항목 추가 (append)"
      ],
      "metadata": {
        "id": "B-_6LAuXAEe_"
      }
    },
    {
      "cell_type": "code",
      "source": [
        "my_list.append(\"kiwi\")\n",
        "print(my_list)"
      ],
      "metadata": {
        "colab": {
          "base_uri": "https://localhost:8080/"
        },
        "id": "MZe_5LkNADvw",
        "outputId": "1715575f-4821-45f5-fcf6-32ebf26680b0"
      },
      "execution_count": 17,
      "outputs": [
        {
          "output_type": "stream",
          "name": "stdout",
          "text": [
            "['apple', 'orange', 'cherry', 'kiwi']\n"
          ]
        }
      ]
    },
    {
      "cell_type": "markdown",
      "source": [
        "7. 리스트 중간에 항목 삽입 (insert)"
      ],
      "metadata": {
        "id": "BYjEkACrAE8H"
      }
    },
    {
      "cell_type": "code",
      "source": [
        "my_list.insert(1, \"mango\")\n",
        "print(my_list)"
      ],
      "metadata": {
        "colab": {
          "base_uri": "https://localhost:8080/"
        },
        "id": "KTyZH04a9K0z",
        "outputId": "641aa861-2f51-4360-8169-da47bddea4f7"
      },
      "execution_count": 18,
      "outputs": [
        {
          "output_type": "stream",
          "name": "stdout",
          "text": [
            "['apple', 'mango', 'orange', 'cherry', 'kiwi']\n"
          ]
        }
      ]
    },
    {
      "cell_type": "markdown",
      "source": [
        "8. 항목 제거 (remove, pop, del)"
      ],
      "metadata": {
        "id": "Hx0r3A7xAFdQ"
      }
    },
    {
      "cell_type": "code",
      "source": [
        "# 값으로 제거 (orange 삭제)\n",
        "my_list.remove(\"orange\")\n",
        "print(my_list)\n",
        "\n",
        "# 마지막 항목 제거\n",
        "my_list.pop()\n",
        "print(my_list)\n",
        "\n",
        "# 인덱스 0 항목 삭제\n",
        "del my_list[0]\n",
        "print(my_list)"
      ],
      "metadata": {
        "colab": {
          "base_uri": "https://localhost:8080/"
        },
        "id": "mcN2cmIa9K3B",
        "outputId": "c79a416c-945c-4a8d-8959-d5fb8d790087"
      },
      "execution_count": 19,
      "outputs": [
        {
          "output_type": "stream",
          "name": "stdout",
          "text": [
            "['apple', 'mango', 'cherry', 'kiwi']\n",
            "['apple', 'mango', 'cherry']\n",
            "['mango', 'cherry']\n"
          ]
        }
      ]
    },
    {
      "cell_type": "markdown",
      "source": [
        "9. 리스트 정렬 및 역순 정렬"
      ],
      "metadata": {
        "id": "2hCzp8DTAF2g"
      }
    },
    {
      "cell_type": "code",
      "source": [
        "# 숫자 리스트 생성\n",
        "numbers = [5, 2, 9, 1]\n",
        "\n",
        "# 오름차순 정렬\n",
        "numbers.sort()\n",
        "print(\"오름차순 정렬:\", numbers)\n",
        "\n",
        "# 내림차순 정렬 (reverse)\n",
        "numbers.reverse()\n",
        "print(\"내림차순 정렬:\", numbers)"
      ],
      "metadata": {
        "colab": {
          "base_uri": "https://localhost:8080/"
        },
        "id": "GOMTX9cBAGPF",
        "outputId": "38e0c0a1-e3a9-489d-e677-70e396a6d135"
      },
      "execution_count": 20,
      "outputs": [
        {
          "output_type": "stream",
          "name": "stdout",
          "text": [
            "오름차순 정렬: [1, 2, 5, 9]\n",
            "내림차순 정렬: [9, 5, 2, 1]\n"
          ]
        }
      ]
    },
    {
      "cell_type": "markdown",
      "source": [
        "# 자율주행 관련"
      ],
      "metadata": {
        "id": "bxGUm2XfAGoJ"
      }
    },
    {
      "cell_type": "markdown",
      "source": [
        "전역 설정 및 초기화"
      ],
      "metadata": {
        "id": "281Yo74wEtTi"
      }
    },
    {
      "cell_type": "code",
      "source": [
        "import datetime\n",
        "\n",
        "current_system_time = datetime.datetime(2025, 6, 26, 11, 26, 16)\n",
        "dt = 0.1\n",
        "simulation_time = 0.0\n",
        "\n",
        "print(f\"(안산 지역, {current_system_time.strftime('%Y-%m-%d %H:%M:%S')} 기준) #n\")"
      ],
      "metadata": {
        "colab": {
          "base_uri": "https://localhost:8080/"
        },
        "id": "f_QckhCB9K7k",
        "outputId": "568af718-44cd-4499-9592-a018e7b65f15"
      },
      "execution_count": 21,
      "outputs": [
        {
          "output_type": "stream",
          "name": "stdout",
          "text": [
            "(안산 지역, 2025-06-26 11:26:16 기준) #n\n"
          ]
        }
      ]
    },
    {
      "cell_type": "markdown",
      "source": [
        "차량 상태 변수 (Vehicle State)"
      ],
      "metadata": {
        "id": "L6d_RLMXB7Zh"
      }
    },
    {
      "cell_type": "code",
      "source": [
        "current_position_gps = [126.8375, 37.2941, 50.0]\n",
        "current_heading = 90.0 # 차량의 방향각 (yaw, degrees, 0도: 동쪽, 90도: 북쪽)\n",
        "current_pitch = 0.0\n",
        "\n",
        "current_position_local = [0.0, 0.0, 0.0]\n",
        "\n",
        "current_velocity_mps = 0.0\n",
        "current_acceleration_mps2 = 0.0\n",
        "current_angular_velocity_radps = 0.0"
      ],
      "metadata": {
        "id": "h6EeqTGHEwZK"
      },
      "execution_count": 22,
      "outputs": []
    },
    {
      "cell_type": "markdown",
      "source": [
        "제어 변수 (Control Variables)"
      ],
      "metadata": {
        "id": "VLD29y_LB7n8"
      }
    },
    {
      "cell_type": "code",
      "source": [
        "steering_angle_command = 0.0\n",
        "max_steering_angle_deg = 30.0\n",
        "\n",
        "throttle_command = 0.0\n",
        "brake_command = 0.0\n",
        "target_speed_mps = 8.33\n",
        "max_allowable_speed_mps = 16.67"
      ],
      "metadata": {
        "id": "kiRuuDnqB7vx"
      },
      "execution_count": 23,
      "outputs": []
    },
    {
      "cell_type": "markdown",
      "source": [
        "경로 계획 변수 (Path Planning)"
      ],
      "metadata": {
        "id": "oKPH5BNQB72x"
      }
    },
    {
      "cell_type": "code",
      "source": [
        "waypoints_global = [\n",
        "    [126.8375, 37.2941], [126.8380, 37.2943], [126.8385, 37.2940],\n",
        "    [126.8390, 37.2945], [126.8395, 37.2948], [126.8400, 37.2950]\n",
        "]\n",
        "\n",
        "current_target_waypoint_idx = 0\n",
        "current_target_waypoint_coords = waypoints_global[current_target_waypoint_idx]\n",
        "\n",
        "planned_local_path = []\n",
        "full_route = []\n",
        "\n",
        "distance_to_current_target_m = 0.0\n",
        "lookahead_distance_m = 15.0"
      ],
      "metadata": {
        "id": "mOkiy69ZB79h"
      },
      "execution_count": 24,
      "outputs": []
    },
    {
      "cell_type": "markdown",
      "source": [
        "센서 데이터 변수 (Sensor Data)"
      ],
      "metadata": {
        "id": "BZs4aMcSGsQg"
      }
    },
    {
      "cell_type": "code",
      "source": [
        "camera_front_image = None     # 전방 카메라\n",
        "camera_rear_image = None   # 후방 카메라\n",
        "detected_lane_lines = []    # 차선 정보\n",
        "detected_traffic_signs = []  # 교통 표지판\n",
        "\n",
        "lidar_point_cloud = []   # 라이다 포인트\n",
        "detected_obstacles = []    # 감지된 장애물\n",
        "\n",
        "gps_sensor_readings = [0.0, 0.0, 0.0]"
      ],
      "metadata": {
        "id": "S5kzuxZsGI63"
      },
      "execution_count": 25,
      "outputs": []
    },
    {
      "cell_type": "markdown",
      "source": [
        "안전 및 충돌 회피 변수 (Safety and Collision Avoidance)"
      ],
      "metadata": {
        "id": "CPKftZ9THNI3"
      }
    },
    {
      "cell_type": "code",
      "source": [
        "collision_detected = False      # 충돌 감지 여부 (True/False)\n",
        "safety_distance_m = 5.0     # 주변 차량/장애물과의 최소 안전 거리 (미터)\n",
        "emergency_brake_activated = False   # 비상 브레이크 활성화 여부 (True/False)\n",
        "\n",
        "nearby_vehicles = []\n",
        "front_vehicle_distance_m = float('inf')# 전방 가장 가까운 차량과의 거리 (미터)"
      ],
      "metadata": {
        "id": "rj4B0qAdHNP3"
      },
      "execution_count": 26,
      "outputs": []
    },
    {
      "cell_type": "markdown",
      "source": [
        "주행 모드 변수 (Driving Modes)"
      ],
      "metadata": {
        "id": "Arz_cxRGHNU4"
      }
    },
    {
      "cell_type": "code",
      "source": [
        "driving_mode = \"NORMAL\"\n",
        "autonomous_mode_enabled = True\n",
        "lane_change_mode_active = False\n",
        "turn_signal_left = False\n",
        "turn_signal_right = False"
      ],
      "metadata": {
        "id": "l6fJC7AmHNnv"
      },
      "execution_count": 27,
      "outputs": []
    },
    {
      "cell_type": "markdown",
      "source": [
        "환경 변수 (Environment)"
      ],
      "metadata": {
        "id": "B-QdSS19HN0b"
      }
    },
    {
      "cell_type": "code",
      "source": [
        "weather_condition = \"CLEAR\"      # \"CLEAR\", \"RAINY\", \"SNOWY\", \"FOGGY\"\n",
        "road_condition = \"DRY\"        # \"DRY\", \"WET\", \"ICY\", \"SNOWY\"\n",
        "visibility_m = 200.0       # 가시거리 (미터)\n",
        "\n",
        "\n",
        "traffic_light_state = \"GREEN\"    # 현재 신호등 상태 (\"RED\", \"YELLOW\", \"GREEN\", \"OFF\")\n",
        "speed_limit_kmh = 50.0"
      ],
      "metadata": {
        "id": "0mRHBVgtHN7N"
      },
      "execution_count": 28,
      "outputs": []
    },
    {
      "cell_type": "markdown",
      "source": [
        "8. 차량 물리적 특성 변수"
      ],
      "metadata": {
        "id": "-JdCSJ8SHOJh"
      }
    },
    {
      "cell_type": "code",
      "source": [
        "vehicle_length_m = 4.5    # 차량 길이 (미터)\n",
        "vehicle_width_m = 1.8   # 차량 너비 (미터)\n",
        "wheelbase_m = 2.7    # 축간거리 (미터)\n",
        "\n",
        "max_acceleration_mps2 = 3.0   # 최대 가속도 (m/s^2)\n",
        "max_deceleration_mps2 = -8.0  # 최대 감속도 (m/s^2, 음수 값)\n",
        "min_turning_radius_m = 5.0  # 최소 회전 반경 (미터)"
      ],
      "metadata": {
        "id": "AFzF1s8SHOQ7"
      },
      "execution_count": 29,
      "outputs": []
    },
    {
      "cell_type": "markdown",
      "source": [
        "실행"
      ],
      "metadata": {
        "id": "gWXs0j4SH7nx"
      }
    },
    {
      "cell_type": "code",
      "source": [
        "print(f\"초기 속도: {current_velocity_mps:.1f} m/s\")\n",
        "print(f\"초기 GPS: ({current_position_gps[1]:.5f}, {current_position_gps[0]:.5f})\")\n",
        "\n",
        "num_steps = 10 # 1초 (10 * 0.1s)\n",
        "for step in range(num_steps):\n",
        "    simulation_time += dt\n",
        "\n",
        "    current_velocity_mps += current_acceleration_mps2 * dt\n",
        "    current_velocity_mps = min(current_velocity_mps, max_allowable_speed_mps)\n",
        "    meters_per_lat_deg = 111000.0\n",
        "    meters_per_lon_deg_at_ansan = 90000.0 # 안산 위도에서 대략 90km/degree\n",
        "\n",
        "    current_position_gps[1] += (current_velocity_mps * (1 if current_heading >= 45 and current_heading < 135 else (-1 if current_heading >= 225 and current_heading < 315 else 0)) * dt) / meters_per_lat_deg\n",
        "    current_position_gps[0] += (current_velocity_mps * (1 if current_heading >= 315 or current_heading < 45 else (-1 if current_heading >= 135 and current_heading < 225 else 0)) * dt) / meters_per_lon_deg_at_ansan\n",
        "\n",
        "    # 2. 제어 변수 업데이트 (가속 명령)\n",
        "    if current_velocity_mps < target_speed_mps:\n",
        "        throttle_command = 0.5\n",
        "        brake_command = 0.0\n",
        "        current_acceleration_mps2 = 1.0 # 가속 시도\n",
        "    else:\n",
        "        throttle_command = 0.0\n",
        "        brake_command = 0.0\n",
        "        current_acceleration_mps2 = 0.0 # 목표 속도 도달 시 가속도 0\n",
        "\n",
        "    if current_target_waypoint_idx < len(waypoints_global) - 1:\n",
        "        dist_to_next_waypoint = ((current_position_gps[1] - waypoints_global[current_target_waypoint_idx+1][1])**2 * meters_per_lat_deg**2 +\n",
        "                                 (current_position_gps[0] - waypoints_global[current_target_waypoint_idx+1][0])**2 * meters_per_lon_deg_at_ansan**2)**0.5\n",
        "\n",
        "        if dist_to_next_waypoint < lookahead_distance_m / 5.0: # 충분히 가까워지면 다음 웨이포인트로\n",
        "            current_target_waypoint_idx += 1\n",
        "            current_target_waypoint_coords = waypoints_global[current_target_waypoint_idx]\n",
        "            print(f\"\\n[시뮬 {simulation_time:.1f}s] 다음 웨이포인트로 이동: {current_target_waypoint_idx}\")\n",
        "\n",
        "    gps_sensor_readings = list(current_position_gps) # 센서 데이터도 현재 차량 위치와 동기화\n",
        "\n",
        "    if simulation_time > 0.5 and simulation_time < 0.6: # 0.5초쯤 가상 장애물 감지\n",
        "        # [ID, 타입, 거리_m, 상대속도_mps, 각도_deg]\n",
        "        nearby_vehicles.append([1, \"car\", 3.0, -2.0, 10.0])\n",
        "        front_vehicle_distance_m = 3.0\n",
        "        if front_vehicle_distance_m < safety_distance_m:\n",
        "            collision_detected = True\n",
        "            emergency_brake_activated = True\n",
        "            throttle_command = 0.0\n",
        "            brake_command = 1.0 # 비상 브레이크 작동\n",
        "            current_acceleration_mps2 = max_deceleration_mps2 # 급감속\n",
        "\n",
        "    if emergency_brake_activated:\n",
        "        driving_mode = \"EMERGENCY_BRAKE\"\n",
        "    else:\n",
        "        driving_mode = \"NORMAL\"\n",
        "\n",
        "    if step % 2 == 0: # 매 0.2초마다 출력\n",
        "        print(f\"시뮬 시간: {simulation_time:.1f}s | \"\n",
        "              f\"속도: {current_velocity_mps * 3.6:.1f}km/h | \"\n",
        "              f\"GPS: ({current_position_gps[1]:.5f}, {current_position_gps[0]:.5f}) | \"\n",
        "              f\"모드: {driving_mode} | \"\n",
        "              f\"충돌 감지: {collision_detected}\")\n",
        "\n",
        "\n",
        "# 최종 시뮬레이션 결과\n",
        "print(\"\\n### 시뮬레이션 최종 결과 ###\")\n",
        "print(f\"총 시뮬레이션 시간: {simulation_time:.1f}초\")\n",
        "print(f\"최종 차량 속도: {current_velocity_mps * 3.6:.1f} km/h\")\n",
        "print(f\"최종 GPS 위치: 위도={current_position_gps[1]:.5f}, 경도={current_position_gps[0]:.5f}\")\n",
        "print(f\"비상 브레이크 작동 여부: {emergency_brake_activated}\")\n",
        "print(f\"감지된 근처 차량 수 (시뮬 중): {len(nearby_vehicles)}\")\n"
      ],
      "metadata": {
        "colab": {
          "base_uri": "https://localhost:8080/"
        },
        "id": "RQ_DxP8tH702",
        "outputId": "9f79af28-6a24-47cc-9bee-272c873fbe0c"
      },
      "execution_count": 30,
      "outputs": [
        {
          "output_type": "stream",
          "name": "stdout",
          "text": [
            "초기 속도: 0.0 m/s\n",
            "초기 GPS: (37.29410, 126.83750)\n",
            "시뮬 시간: 0.1s | 속도: 0.0km/h | GPS: (37.29410, 126.83750) | 모드: NORMAL | 충돌 감지: False\n",
            "시뮬 시간: 0.3s | 속도: 0.7km/h | GPS: (37.29410, 126.83750) | 모드: NORMAL | 충돌 감지: False\n",
            "시뮬 시간: 0.5s | 속도: 1.4km/h | GPS: (37.29410, 126.83750) | 모드: NORMAL | 충돌 감지: False\n",
            "시뮬 시간: 0.7s | 속도: 2.2km/h | GPS: (37.29410, 126.83750) | 모드: NORMAL | 충돌 감지: False\n",
            "시뮬 시간: 0.9s | 속도: 2.9km/h | GPS: (37.29410, 126.83750) | 모드: NORMAL | 충돌 감지: False\n",
            "\n",
            "### 시뮬레이션 최종 결과 ###\n",
            "총 시뮬레이션 시간: 1.0초\n",
            "최종 차량 속도: 3.2 km/h\n",
            "최종 GPS 위치: 위도=37.29410, 경도=126.83750\n",
            "비상 브레이크 작동 여부: False\n",
            "감지된 근처 차량 수 (시뮬 중): 0\n"
          ]
        }
      ]
    }
  ]
}